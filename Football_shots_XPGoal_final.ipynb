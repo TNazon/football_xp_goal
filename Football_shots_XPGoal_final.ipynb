{
 "cells": [
  {
   "cell_type": "markdown",
   "metadata": {},
   "source": [
    "# Import and options"
   ]
  },
  {
   "cell_type": "code",
   "execution_count": 1,
   "metadata": {
    "ExecuteTime": {
     "end_time": "2019-02-27T11:03:59.747446Z",
     "start_time": "2019-02-27T11:03:57.835641Z"
    }
   },
   "outputs": [],
   "source": [
    "import pandas as pd\n",
    "import numpy as np\n",
    "import glob\n",
    "%matplotlib inline\n",
    "import json\n",
    "# import Image\n",
    "\n",
    "from pandas.io.json import json_normalize\n",
    "import numpy as np\n",
    "import seaborn as sns\n",
    "import pandas as pd\n",
    "import matplotlib.pyplot as plt\n",
    "from matplotlib.patches import Arc, Rectangle, ConnectionPatch\n",
    "from matplotlib.offsetbox import  OffsetImage\n",
    "from matplotlib.patches import Ellipse\n",
    "from matplotlib.colors import ListedColormap\n",
    "from matplotlib.lines import Line2D\n",
    "\n",
    "from numpy import ones,vstack\n",
    "from numpy.linalg import lstsq\n",
    "import plotly as py\n",
    "import plotly.graph_objs as go\n",
    "\n",
    "import squarify\n",
    "from functools import reduce\n",
    "\n",
    "import warnings\n",
    "warnings.filterwarnings('ignore')\n",
    "\n",
    "py.tools.set_credentials_file(username='theon', api_key='Urx3lyY3vpy94j2TJ4s4')"
   ]
  },
  {
   "cell_type": "code",
   "execution_count": 3,
   "metadata": {
    "ExecuteTime": {
     "end_time": "2019-02-27T11:04:04.634176Z",
     "start_time": "2019-02-27T11:04:04.631314Z"
    }
   },
   "outputs": [],
   "source": [
    "# PITCH PARAMS\n",
    "pitch_length = 105\n",
    "pitch_width = 68\n",
    "\n",
    "pitch_y = [0, 13.85, 24.85, 26.5, 30.35, 37.65, 41.5, 43.15, 54.15, 68]\n",
    "pitch_x = [70, 88.5, 99.5, 99.5 + 5.5/2, 105]"
   ]
  },
  {
   "cell_type": "code",
   "execution_count": 4,
   "metadata": {
    "ExecuteTime": {
     "end_time": "2019-02-27T11:04:05.922767Z",
     "start_time": "2019-02-27T11:04:05.913085Z"
    }
   },
   "outputs": [],
   "source": [
    "LEAGUES = {22: \"Germany_Bundesliga\",\n",
    "           23: \"Spain_Liga\",\n",
    "           24: \"France_Ligue1\",\n",
    "           8: \"England_PL\",\n",
    "           21: \"Italy_SerieA\",\n",
    "           5: \"UEFA_Champions\",\n",
    "           4: \"World_Cup\",\n",
    "           6: \"UEFA_Europa_League\",\n",
    "           3: \"UEFA_Euro\"}\n",
    "\n",
    "SEASONS = {\n",
    "    \n",
    "}"
   ]
  },
  {
   "cell_type": "code",
   "execution_count": 5,
   "metadata": {
    "ExecuteTime": {
     "end_time": "2019-02-27T11:04:06.624306Z",
     "start_time": "2019-02-27T11:04:06.615489Z"
    }
   },
   "outputs": [],
   "source": [
    "RESULT_SHOT = {\n",
    "    \"blue\": \"saved\",\n",
    "    \"yellow\": \"goal\",\n",
    "    \"darkgrey\": \"blocked\",\n",
    "    \"red\": \"off_target\"\n",
    "}\n",
    "    \n",
    "COLOR_SHOT = {\n",
    "    \"saved\": [\"#F06543\", 0.5],\n",
    "    \"goal\": [\"#5EFC8D\",  1],\n",
    "    \"blocked\": [\"#93BEDF\", 0.25],\n",
    "    \"off_target\": [\"#639A88\", 0.25]\n",
    "}\n",
    "\n",
    "COLOR_ZONE = {\n",
    "    1: \"#628AA1\",\n",
    "    2: \"#7098AE\",\n",
    "    3: \"#7FA5BB\",\n",
    "    4: \"#8EB2C8\",\n",
    "    5: \"#A0C1D4\",\n",
    "    6: \"#B2CFDF\",\n",
    "    7: \"#C5DBE8\",\n",
    "    8: \"#FFFFFF\"\n",
    "}"
   ]
  },
  {
   "cell_type": "code",
   "execution_count": 1,
   "metadata": {
    "ExecuteTime": {
     "end_time": "2019-08-24T06:09:53.756204Z",
     "start_time": "2019-08-24T06:09:53.748871Z"
    }
   },
   "outputs": [],
   "source": [
    "COLOR_ZONE = {\n",
    "    1: \"#628AA1\",\n",
    "    2: \"#7098AE\",\n",
    "    3: \"#7FA5BB\",\n",
    "    4: \"#8EB2C8\",\n",
    "    5: \"#A0C1D4\",\n",
    "    6: \"#B2CFDF\",\n",
    "    7: \"#C5DBE8\",\n",
    "    8: \"#FFFFFF\"\n",
    "}"
   ]
  },
  {
   "cell_type": "code",
   "execution_count": 7,
   "metadata": {
    "ExecuteTime": {
     "end_time": "2019-02-27T11:04:07.610707Z",
     "start_time": "2019-02-27T11:04:07.605149Z"
    }
   },
   "outputs": [],
   "source": [
    "MAJOR_LEAGUES = ['England_PL', 'Italy_SerieA', 'Spain_Liga', 'Germany_Bundesliga',\n",
    "       'France_Ligue1']"
   ]
  },
  {
   "cell_type": "markdown",
   "metadata": {},
   "source": [
    "## Read saved DataFrame"
   ]
  },
  {
   "cell_type": "code",
   "execution_count": 11,
   "metadata": {
    "ExecuteTime": {
     "end_time": "2019-02-27T11:05:40.434796Z",
     "start_time": "2019-02-27T11:05:38.923050Z"
    }
   },
   "outputs": [],
   "source": [
    "df= pd.read_csv(\"database_2702_new_xp_goal_new_zone.csv\")\n",
    "df.drop(df.columns[0], axis=1, inplace=True)"
   ]
  },
  {
   "cell_type": "code",
   "execution_count": 12,
   "metadata": {
    "ExecuteTime": {
     "end_time": "2019-02-27T11:05:40.464311Z",
     "start_time": "2019-02-27T11:05:40.436062Z"
    }
   },
   "outputs": [
    {
     "data": {
      "text/html": [
       "<div>\n",
       "<style scoped>\n",
       "    .dataframe tbody tr th:only-of-type {\n",
       "        vertical-align: middle;\n",
       "    }\n",
       "\n",
       "    .dataframe tbody tr th {\n",
       "        vertical-align: top;\n",
       "    }\n",
       "\n",
       "    .dataframe thead th {\n",
       "        text-align: right;\n",
       "    }\n",
       "</style>\n",
       "<table border=\"1\" class=\"dataframe\">\n",
       "  <thead>\n",
       "    <tr style=\"text-align: right;\">\n",
       "      <th></th>\n",
       "      <th>team_away</th>\n",
       "      <th>team_id_away</th>\n",
       "      <th>fixture_id</th>\n",
       "      <th>team_home</th>\n",
       "      <th>team_id_home</th>\n",
       "      <th>link</th>\n",
       "      <th>minute</th>\n",
       "      <th>part</th>\n",
       "      <th>result</th>\n",
       "      <th>score</th>\n",
       "      <th>...</th>\n",
       "      <th>league</th>\n",
       "      <th>result_processed</th>\n",
       "      <th>pos_start</th>\n",
       "      <th>pos_end</th>\n",
       "      <th>pos_delta</th>\n",
       "      <th>is_goal</th>\n",
       "      <th>zone</th>\n",
       "      <th>xp_goal</th>\n",
       "      <th>zone_v1</th>\n",
       "      <th>xp_goal_v1</th>\n",
       "    </tr>\n",
       "  </thead>\n",
       "  <tbody>\n",
       "    <tr>\n",
       "      <th>0</th>\n",
       "      <td>Las Palmas</td>\n",
       "      <td>407</td>\n",
       "      <td>820042</td>\n",
       "      <td>Málaga</td>\n",
       "      <td>182</td>\n",
       "      <td>https://www.fourfourtwo.com/statszone/23-2015/...</td>\n",
       "      <td>9</td>\n",
       "      <td>foot_left</td>\n",
       "      <td>red</td>\n",
       "      <td>4 - 1</td>\n",
       "      <td>...</td>\n",
       "      <td>Spain_Liga</td>\n",
       "      <td>off_target</td>\n",
       "      <td>[89.83114864864868, 45.97485714285709]</td>\n",
       "      <td>[105, 43.33499651567939]</td>\n",
       "      <td>[15.16885135 -2.63986063]</td>\n",
       "      <td>0</td>\n",
       "      <td>56</td>\n",
       "      <td>0.070853</td>\n",
       "      <td>6</td>\n",
       "      <td>0.075933</td>\n",
       "    </tr>\n",
       "    <tr>\n",
       "      <th>1</th>\n",
       "      <td>Granada CF</td>\n",
       "      <td>5683</td>\n",
       "      <td>456532</td>\n",
       "      <td>Sevilla</td>\n",
       "      <td>179</td>\n",
       "      <td>https://www.fourfourtwo.com/statszone/23-2012/...</td>\n",
       "      <td>8</td>\n",
       "      <td>foot_left</td>\n",
       "      <td>red</td>\n",
       "      <td>3 - 0</td>\n",
       "      <td>...</td>\n",
       "      <td>Spain_Liga</td>\n",
       "      <td>off_target</td>\n",
       "      <td>[103.3670945945946, 39.40328919860623]</td>\n",
       "      <td>[104.79590540540542, 37.27455052264804]</td>\n",
       "      <td>[ 1.42881081 -2.12873868]</td>\n",
       "      <td>0</td>\n",
       "      <td>91</td>\n",
       "      <td>0.316138</td>\n",
       "      <td>3</td>\n",
       "      <td>0.313038</td>\n",
       "    </tr>\n",
       "    <tr>\n",
       "      <th>2</th>\n",
       "      <td>Granada CF</td>\n",
       "      <td>5683</td>\n",
       "      <td>456532</td>\n",
       "      <td>Sevilla</td>\n",
       "      <td>179</td>\n",
       "      <td>https://www.fourfourtwo.com/statszone/23-2012/...</td>\n",
       "      <td>6</td>\n",
       "      <td>foot_left</td>\n",
       "      <td>blue</td>\n",
       "      <td>3 - 0</td>\n",
       "      <td>...</td>\n",
       "      <td>Spain_Liga</td>\n",
       "      <td>saved</td>\n",
       "      <td>[74.7782432432433, 39.257254355400654]</td>\n",
       "      <td>[103.81155405405407, 31.506174216027844]</td>\n",
       "      <td>[29.03331081 -7.75108014]</td>\n",
       "      <td>0</td>\n",
       "      <td>19</td>\n",
       "      <td>0.023529</td>\n",
       "      <td>7</td>\n",
       "      <td>0.034478</td>\n",
       "    </tr>\n",
       "    <tr>\n",
       "      <th>3</th>\n",
       "      <td>Granada CF</td>\n",
       "      <td>5683</td>\n",
       "      <td>456532</td>\n",
       "      <td>Sevilla</td>\n",
       "      <td>179</td>\n",
       "      <td>https://www.fourfourtwo.com/statszone/23-2012/...</td>\n",
       "      <td>2</td>\n",
       "      <td>foot_left</td>\n",
       "      <td>red</td>\n",
       "      <td>3 - 0</td>\n",
       "      <td>...</td>\n",
       "      <td>Spain_Liga</td>\n",
       "      <td>off_target</td>\n",
       "      <td>[90.7646621621622, 48.38443205574907]</td>\n",
       "      <td>[105, 38.80791637630658]</td>\n",
       "      <td>[14.23533784 -9.57651568]</td>\n",
       "      <td>0</td>\n",
       "      <td>57</td>\n",
       "      <td>0.027652</td>\n",
       "      <td>6</td>\n",
       "      <td>0.075933</td>\n",
       "    </tr>\n",
       "    <tr>\n",
       "      <th>4</th>\n",
       "      <td>Troyes</td>\n",
       "      <td>154</td>\n",
       "      <td>438489</td>\n",
       "      <td>Toulouse</td>\n",
       "      <td>427</td>\n",
       "      <td>https://www.fourfourtwo.com/statszone/24-2012/...</td>\n",
       "      <td>46</td>\n",
       "      <td>foot_left</td>\n",
       "      <td>darkgrey</td>\n",
       "      <td>2 - 2</td>\n",
       "      <td>...</td>\n",
       "      <td>France_Ligue1</td>\n",
       "      <td>blocked</td>\n",
       "      <td>[82.59641891891896, 22.901351916376285]</td>\n",
       "      <td>[88.75864864864869, 26.39495470383273]</td>\n",
       "      <td>[6.16222973 3.49360279]</td>\n",
       "      <td>0</td>\n",
       "      <td>28</td>\n",
       "      <td>0.028911</td>\n",
       "      <td>7</td>\n",
       "      <td>0.034478</td>\n",
       "    </tr>\n",
       "  </tbody>\n",
       "</table>\n",
       "<p>5 rows × 27 columns</p>\n",
       "</div>"
      ],
      "text/plain": [
       "    team_away  team_id_away  fixture_id team_home  team_id_home  \\\n",
       "0  Las Palmas           407      820042    Málaga           182   \n",
       "1  Granada CF          5683      456532   Sevilla           179   \n",
       "2  Granada CF          5683      456532   Sevilla           179   \n",
       "3  Granada CF          5683      456532   Sevilla           179   \n",
       "4      Troyes           154      438489  Toulouse           427   \n",
       "\n",
       "                                                link  minute       part  \\\n",
       "0  https://www.fourfourtwo.com/statszone/23-2015/...       9  foot_left   \n",
       "1  https://www.fourfourtwo.com/statszone/23-2012/...       8  foot_left   \n",
       "2  https://www.fourfourtwo.com/statszone/23-2012/...       6  foot_left   \n",
       "3  https://www.fourfourtwo.com/statszone/23-2012/...       2  foot_left   \n",
       "4  https://www.fourfourtwo.com/statszone/24-2012/...      46  foot_left   \n",
       "\n",
       "     result  score    ...             league  result_processed  \\\n",
       "0       red  4 - 1    ...         Spain_Liga        off_target   \n",
       "1       red  3 - 0    ...         Spain_Liga        off_target   \n",
       "2      blue  3 - 0    ...         Spain_Liga             saved   \n",
       "3       red  3 - 0    ...         Spain_Liga        off_target   \n",
       "4  darkgrey  2 - 2    ...      France_Ligue1           blocked   \n",
       "\n",
       "                                 pos_start  \\\n",
       "0   [89.83114864864868, 45.97485714285709]   \n",
       "1   [103.3670945945946, 39.40328919860623]   \n",
       "2   [74.7782432432433, 39.257254355400654]   \n",
       "3    [90.7646621621622, 48.38443205574907]   \n",
       "4  [82.59641891891896, 22.901351916376285]   \n",
       "\n",
       "                                    pos_end                  pos_delta  \\\n",
       "0                  [105, 43.33499651567939]  [15.16885135 -2.63986063]   \n",
       "1   [104.79590540540542, 37.27455052264804]  [ 1.42881081 -2.12873868]   \n",
       "2  [103.81155405405407, 31.506174216027844]  [29.03331081 -7.75108014]   \n",
       "3                  [105, 38.80791637630658]  [14.23533784 -9.57651568]   \n",
       "4    [88.75864864864869, 26.39495470383273]    [6.16222973 3.49360279]   \n",
       "\n",
       "  is_goal  zone   xp_goal zone_v1 xp_goal_v1  \n",
       "0       0    56  0.070853       6   0.075933  \n",
       "1       0    91  0.316138       3   0.313038  \n",
       "2       0    19  0.023529       7   0.034478  \n",
       "3       0    57  0.027652       6   0.075933  \n",
       "4       0    28  0.028911       7   0.034478  \n",
       "\n",
       "[5 rows x 27 columns]"
      ]
     },
     "execution_count": 12,
     "metadata": {},
     "output_type": "execute_result"
    }
   ],
   "source": [
    "df.head()"
   ]
  },
  {
   "cell_type": "markdown",
   "metadata": {},
   "source": [
    "### Transform coordinates for representations"
   ]
  },
  {
   "cell_type": "code",
   "execution_count": 13,
   "metadata": {
    "ExecuteTime": {
     "end_time": "2019-02-27T11:05:46.776247Z",
     "start_time": "2019-02-27T11:05:46.763811Z"
    }
   },
   "outputs": [
    {
     "name": "stdout",
     "output_type": "stream",
     "text": [
      "Line Solution to transform X coordinates from scrapped datasets to Y coordinates for representation | \n",
      " y = -0.07020905923344939x + 59.134843205574846\n",
      "============================\n",
      "Line Solution to transform Y coordinates from scrapped datasets to x coordinates for representation | \n",
      " y = -0.07432432432432425x + 116.5945945945946\n"
     ]
    }
   ],
   "source": [
    "# Correspondence between scrapped data (top angles of pitch boxes at 71 and 650 on X coordinates to Y coordina\n",
    "\n",
    "\n",
    "points_x = [(71,54.15),(645,13.85)]\n",
    "x_coords, y_coords = zip(*points_x)\n",
    "A = vstack([x_coords,ones(len(x_coords))]).T\n",
    "m_x_transform, c_x_transform = lstsq(A, y_coords, rcond=None)[0]\n",
    "print(\"Line Solution to transform X coordinates from scrapped datasets to Y coordinates for representation | \\n y = {m}x + {c}\".format(m=m_x_transform,c=c_x_transform))\n",
    "\n",
    "print(\"============================\")\n",
    "\n",
    "# Correspondence between scrapped data (top angles of lines at 150 and 650 on Y coordinates to X coordinates)\n",
    "\n",
    "points_y = [(156,105),(378,88.5)]\n",
    "x_coords, y_coords = zip(*points_y)\n",
    "A = vstack([x_coords,ones(len(x_coords))]).T\n",
    "m_y_transform, c_y_transform = lstsq(A, y_coords, rcond=None)[0]\n",
    "print(\"Line Solution to transform Y coordinates from scrapped datasets to x coordinates for representation | \\n y = {m}x + {c}\".format(m=m_y_transform,c=c_y_transform))"
   ]
  },
  {
   "cell_type": "code",
   "execution_count": 14,
   "metadata": {
    "ExecuteTime": {
     "end_time": "2019-02-27T11:05:47.278704Z",
     "start_time": "2019-02-27T11:05:47.272148Z"
    }
   },
   "outputs": [],
   "source": [
    "def transform_to_X(y):\n",
    "    return m_y_transform * y + c_y_transform\n",
    "\n",
    "def transform_to_Y(x):\n",
    "    return m_x_transform * x + c_x_transform"
   ]
  },
  {
   "cell_type": "code",
   "execution_count": 16,
   "metadata": {
    "ExecuteTime": {
     "end_time": "2019-02-27T11:05:48.462820Z",
     "start_time": "2019-02-27T11:05:48.447421Z"
    }
   },
   "outputs": [],
   "source": [
    "def pos_start_transform(array):\n",
    "    return list(map(lambda elem: [max(0.01, transform_to_X(elem[1])), max(0.01, min(pitch_width, transform_to_Y(elem[0])))], array))\n",
    "\n",
    "def pos_end_transform(array):\n",
    "    l = list(map(lambda elem: [\n",
    "        min(transform_to_X(elem[1]), 105),\n",
    "        min(pitch_y[5], max(pitch_y[4], transform_to_Y(elem[0]))) if elem[2] == \"goal\" or elem[2] == \"saved\" else min(pitch_width, max(0.01, transform_to_Y(elem[0])))\n",
    "    ], array))\n",
    "    return l\n",
    "\n",
    "def pos_delta(array):\n",
    "    return list(map(lambda elem: np.subtract(elem[1], elem[0]), array))"
   ]
  },
  {
   "cell_type": "code",
   "execution_count": 17,
   "metadata": {
    "ExecuteTime": {
     "end_time": "2019-02-27T11:05:53.004345Z",
     "start_time": "2019-02-27T11:05:50.421365Z"
    }
   },
   "outputs": [],
   "source": [
    "df[\"pos_start\"] = pos_start_transform(df[[\"x1\", \"y1\"]].values)\n",
    "df[\"pos_end\"] = pos_end_transform(df[[\"x2\", \"y2\", \"result_processed\"]].values)\n",
    "df[\"pos_delta\"] = pos_delta(df[[\"pos_start\", \"pos_end\"]].values)"
   ]
  },
  {
   "cell_type": "markdown",
   "metadata": {},
   "source": [
    "# Data visualization | Macro"
   ]
  },
  {
   "cell_type": "markdown",
   "metadata": {},
   "source": [
    "## Map number of shots collected in the 5 major European leagues"
   ]
  },
  {
   "cell_type": "code",
   "execution_count": 13,
   "metadata": {
    "ExecuteTime": {
     "end_time": "2019-02-25T18:26:23.720826Z",
     "start_time": "2019-02-25T18:26:23.716794Z"
    }
   },
   "outputs": [],
   "source": [
    "POSITION_COUNTRY = {\n",
    "    \"Italy_SerieA\": [41.992834, 13.884544],\n",
    "    \"France_Ligue1\": [46.398719, 4.233663],\n",
    "    \"England_PL\": [53.068819, -1.646930],\n",
    "    \"Germany_Bundesliga\": [50.771006, 10.553582],\n",
    "    \"Spain_Liga\": [39.981012, -4.358449]\n",
    "}"
   ]
  },
  {
   "cell_type": "code",
   "execution_count": 14,
   "metadata": {
    "ExecuteTime": {
     "end_time": "2019-02-25T18:26:24.537757Z",
     "start_time": "2019-02-25T18:26:24.322597Z"
    }
   },
   "outputs": [],
   "source": [
    "df_temp = df.groupby([\"league\", \"season_year\", \"fixture_id\"]).count().iloc[:, 0:1].reset_index()\n",
    "df_temp.columns = [\"league\", \"season_year\", \"fixture_id\", \"total_shots\"]\n",
    "df_agg = df_temp.groupby([\"league\", \"season_year\"]).agg({\"fixture_id\": \"count\", \"total_shots\": \"sum\"}).reset_index()\n",
    "df_agg.columns = [\"league\", \"season_year\", \"total_games\", \"total_shots\"]\n",
    "df_agg[\"shots_per_game\"] = df_agg[\"total_shots\"] / df_agg[\"total_games\"]"
   ]
  },
  {
   "cell_type": "code",
   "execution_count": 281,
   "metadata": {
    "ExecuteTime": {
     "end_time": "2019-02-21T15:41:55.714822Z",
     "start_time": "2019-02-21T15:41:55.694738Z"
    },
    "collapsed": true
   },
   "outputs": [
    {
     "data": {
      "text/html": [
       "<div>\n",
       "<style scoped>\n",
       "    .dataframe tbody tr th:only-of-type {\n",
       "        vertical-align: middle;\n",
       "    }\n",
       "\n",
       "    .dataframe tbody tr th {\n",
       "        vertical-align: top;\n",
       "    }\n",
       "\n",
       "    .dataframe thead th {\n",
       "        text-align: right;\n",
       "    }\n",
       "</style>\n",
       "<table border=\"1\" class=\"dataframe\">\n",
       "  <thead>\n",
       "    <tr style=\"text-align: right;\">\n",
       "      <th></th>\n",
       "      <th>league</th>\n",
       "      <th>season_year</th>\n",
       "      <th>total_shots</th>\n",
       "    </tr>\n",
       "  </thead>\n",
       "  <tbody>\n",
       "    <tr>\n",
       "      <th>0</th>\n",
       "      <td>England_PL</td>\n",
       "      <td>2010</td>\n",
       "      <td>10896</td>\n",
       "    </tr>\n",
       "    <tr>\n",
       "      <th>1</th>\n",
       "      <td>England_PL</td>\n",
       "      <td>2011</td>\n",
       "      <td>10661</td>\n",
       "    </tr>\n",
       "    <tr>\n",
       "      <th>2</th>\n",
       "      <td>England_PL</td>\n",
       "      <td>2012</td>\n",
       "      <td>10390</td>\n",
       "    </tr>\n",
       "    <tr>\n",
       "      <th>3</th>\n",
       "      <td>England_PL</td>\n",
       "      <td>2013</td>\n",
       "      <td>10108</td>\n",
       "    </tr>\n",
       "    <tr>\n",
       "      <th>4</th>\n",
       "      <td>England_PL</td>\n",
       "      <td>2014</td>\n",
       "      <td>9742</td>\n",
       "    </tr>\n",
       "    <tr>\n",
       "      <th>5</th>\n",
       "      <td>England_PL</td>\n",
       "      <td>2015</td>\n",
       "      <td>9644</td>\n",
       "    </tr>\n",
       "    <tr>\n",
       "      <th>6</th>\n",
       "      <td>England_PL</td>\n",
       "      <td>2016</td>\n",
       "      <td>9569</td>\n",
       "    </tr>\n",
       "    <tr>\n",
       "      <th>7</th>\n",
       "      <td>France_Ligue1</td>\n",
       "      <td>2012</td>\n",
       "      <td>8941</td>\n",
       "    </tr>\n",
       "    <tr>\n",
       "      <th>8</th>\n",
       "      <td>France_Ligue1</td>\n",
       "      <td>2013</td>\n",
       "      <td>8844</td>\n",
       "    </tr>\n",
       "    <tr>\n",
       "      <th>9</th>\n",
       "      <td>France_Ligue1</td>\n",
       "      <td>2014</td>\n",
       "      <td>8575</td>\n",
       "    </tr>\n",
       "    <tr>\n",
       "      <th>10</th>\n",
       "      <td>France_Ligue1</td>\n",
       "      <td>2015</td>\n",
       "      <td>8617</td>\n",
       "    </tr>\n",
       "    <tr>\n",
       "      <th>11</th>\n",
       "      <td>Germany_Bundesliga</td>\n",
       "      <td>2012</td>\n",
       "      <td>7665</td>\n",
       "    </tr>\n",
       "    <tr>\n",
       "      <th>12</th>\n",
       "      <td>Germany_Bundesliga</td>\n",
       "      <td>2013</td>\n",
       "      <td>8241</td>\n",
       "    </tr>\n",
       "    <tr>\n",
       "      <th>13</th>\n",
       "      <td>Germany_Bundesliga</td>\n",
       "      <td>2014</td>\n",
       "      <td>7884</td>\n",
       "    </tr>\n",
       "    <tr>\n",
       "      <th>14</th>\n",
       "      <td>Germany_Bundesliga</td>\n",
       "      <td>2015</td>\n",
       "      <td>7749</td>\n",
       "    </tr>\n",
       "    <tr>\n",
       "      <th>15</th>\n",
       "      <td>Germany_Bundesliga</td>\n",
       "      <td>2016</td>\n",
       "      <td>7511</td>\n",
       "    </tr>\n",
       "    <tr>\n",
       "      <th>16</th>\n",
       "      <td>Italy_SerieA</td>\n",
       "      <td>2012</td>\n",
       "      <td>9855</td>\n",
       "    </tr>\n",
       "    <tr>\n",
       "      <th>17</th>\n",
       "      <td>Italy_SerieA</td>\n",
       "      <td>2013</td>\n",
       "      <td>10044</td>\n",
       "    </tr>\n",
       "    <tr>\n",
       "      <th>18</th>\n",
       "      <td>Italy_SerieA</td>\n",
       "      <td>2014</td>\n",
       "      <td>9875</td>\n",
       "    </tr>\n",
       "    <tr>\n",
       "      <th>19</th>\n",
       "      <td>Italy_SerieA</td>\n",
       "      <td>2015</td>\n",
       "      <td>9665</td>\n",
       "    </tr>\n",
       "    <tr>\n",
       "      <th>20</th>\n",
       "      <td>Italy_SerieA</td>\n",
       "      <td>2016</td>\n",
       "      <td>9939</td>\n",
       "    </tr>\n",
       "    <tr>\n",
       "      <th>21</th>\n",
       "      <td>Spain_Liga</td>\n",
       "      <td>2012</td>\n",
       "      <td>9788</td>\n",
       "    </tr>\n",
       "    <tr>\n",
       "      <th>22</th>\n",
       "      <td>Spain_Liga</td>\n",
       "      <td>2013</td>\n",
       "      <td>9483</td>\n",
       "    </tr>\n",
       "    <tr>\n",
       "      <th>23</th>\n",
       "      <td>Spain_Liga</td>\n",
       "      <td>2014</td>\n",
       "      <td>8879</td>\n",
       "    </tr>\n",
       "    <tr>\n",
       "      <th>24</th>\n",
       "      <td>Spain_Liga</td>\n",
       "      <td>2015</td>\n",
       "      <td>8894</td>\n",
       "    </tr>\n",
       "    <tr>\n",
       "      <th>25</th>\n",
       "      <td>Spain_Liga</td>\n",
       "      <td>2016</td>\n",
       "      <td>8953</td>\n",
       "    </tr>\n",
       "    <tr>\n",
       "      <th>26</th>\n",
       "      <td>UEFA_Champions</td>\n",
       "      <td>2010</td>\n",
       "      <td>3416</td>\n",
       "    </tr>\n",
       "    <tr>\n",
       "      <th>27</th>\n",
       "      <td>UEFA_Champions</td>\n",
       "      <td>2011</td>\n",
       "      <td>3426</td>\n",
       "    </tr>\n",
       "    <tr>\n",
       "      <th>28</th>\n",
       "      <td>UEFA_Champions</td>\n",
       "      <td>2012</td>\n",
       "      <td>3273</td>\n",
       "    </tr>\n",
       "    <tr>\n",
       "      <th>29</th>\n",
       "      <td>UEFA_Champions</td>\n",
       "      <td>2013</td>\n",
       "      <td>3165</td>\n",
       "    </tr>\n",
       "    <tr>\n",
       "      <th>30</th>\n",
       "      <td>UEFA_Champions</td>\n",
       "      <td>2014</td>\n",
       "      <td>3147</td>\n",
       "    </tr>\n",
       "    <tr>\n",
       "      <th>31</th>\n",
       "      <td>UEFA_Champions</td>\n",
       "      <td>2015</td>\n",
       "      <td>3368</td>\n",
       "    </tr>\n",
       "    <tr>\n",
       "      <th>32</th>\n",
       "      <td>UEFA_Champions</td>\n",
       "      <td>2016</td>\n",
       "      <td>3031</td>\n",
       "    </tr>\n",
       "    <tr>\n",
       "      <th>33</th>\n",
       "      <td>UEFA_Euro</td>\n",
       "      <td>2011</td>\n",
       "      <td>867</td>\n",
       "    </tr>\n",
       "    <tr>\n",
       "      <th>34</th>\n",
       "      <td>UEFA_Euro</td>\n",
       "      <td>2015</td>\n",
       "      <td>1347</td>\n",
       "    </tr>\n",
       "    <tr>\n",
       "      <th>35</th>\n",
       "      <td>UEFA_Europa_League</td>\n",
       "      <td>2012</td>\n",
       "      <td>5278</td>\n",
       "    </tr>\n",
       "    <tr>\n",
       "      <th>36</th>\n",
       "      <td>World_Cup</td>\n",
       "      <td>2013</td>\n",
       "      <td>1888</td>\n",
       "    </tr>\n",
       "  </tbody>\n",
       "</table>\n",
       "</div>"
      ],
      "text/plain": [
       "                league  season_year  total_shots\n",
       "0           England_PL         2010        10896\n",
       "1           England_PL         2011        10661\n",
       "2           England_PL         2012        10390\n",
       "3           England_PL         2013        10108\n",
       "4           England_PL         2014         9742\n",
       "5           England_PL         2015         9644\n",
       "6           England_PL         2016         9569\n",
       "7        France_Ligue1         2012         8941\n",
       "8        France_Ligue1         2013         8844\n",
       "9        France_Ligue1         2014         8575\n",
       "10       France_Ligue1         2015         8617\n",
       "11  Germany_Bundesliga         2012         7665\n",
       "12  Germany_Bundesliga         2013         8241\n",
       "13  Germany_Bundesliga         2014         7884\n",
       "14  Germany_Bundesliga         2015         7749\n",
       "15  Germany_Bundesliga         2016         7511\n",
       "16        Italy_SerieA         2012         9855\n",
       "17        Italy_SerieA         2013        10044\n",
       "18        Italy_SerieA         2014         9875\n",
       "19        Italy_SerieA         2015         9665\n",
       "20        Italy_SerieA         2016         9939\n",
       "21          Spain_Liga         2012         9788\n",
       "22          Spain_Liga         2013         9483\n",
       "23          Spain_Liga         2014         8879\n",
       "24          Spain_Liga         2015         8894\n",
       "25          Spain_Liga         2016         8953\n",
       "26      UEFA_Champions         2010         3416\n",
       "27      UEFA_Champions         2011         3426\n",
       "28      UEFA_Champions         2012         3273\n",
       "29      UEFA_Champions         2013         3165\n",
       "30      UEFA_Champions         2014         3147\n",
       "31      UEFA_Champions         2015         3368\n",
       "32      UEFA_Champions         2016         3031\n",
       "33           UEFA_Euro         2011          867\n",
       "34           UEFA_Euro         2015         1347\n",
       "35  UEFA_Europa_League         2012         5278\n",
       "36           World_Cup         2013         1888"
      ]
     },
     "execution_count": 281,
     "metadata": {},
     "output_type": "execute_result"
    }
   ],
   "source": [
    "df_for_map_season = df_agg.groupby([\"league\", \"season_year\"]).agg({\"total_shots\": \"sum\"}).reset_index()"
   ]
  },
  {
   "cell_type": "code",
   "execution_count": 274,
   "metadata": {
    "ExecuteTime": {
     "end_time": "2019-02-21T15:40:48.649784Z",
     "start_time": "2019-02-21T15:40:48.638585Z"
    }
   },
   "outputs": [],
   "source": [
    "df_for_map = df_agg.groupby(\"league\").agg({\"total_shots\": \"sum\"}).iloc[0:5, :].reset_index()"
   ]
  },
  {
   "cell_type": "code",
   "execution_count": 275,
   "metadata": {
    "ExecuteTime": {
     "end_time": "2019-02-21T15:40:49.164498Z",
     "start_time": "2019-02-21T15:40:49.151980Z"
    }
   },
   "outputs": [],
   "source": [
    "df_for_map[\"coordinates\"] = df_for_map[\"league\"].apply(lambda x : POSITION_COUNTRY[x])"
   ]
  },
  {
   "cell_type": "code",
   "execution_count": 91,
   "metadata": {
    "ExecuteTime": {
     "end_time": "2019-02-15T17:24:44.283830Z",
     "start_time": "2019-02-15T17:24:44.254703Z"
    }
   },
   "outputs": [
    {
     "data": {
      "text/html": [
       "<div style=\"width:100%;\"><div style=\"position:relative;width:100%;height:0;padding-bottom:60%;\"><iframe src=\"data:text/html;charset=utf-8;base64,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\" style=\"position:absolute;width:100%;height:100%;left:0;top:0;border:none !important;\" allowfullscreen webkitallowfullscreen mozallowfullscreen></iframe></div></div>"
      ],
      "text/plain": [
       "<folium.folium.Map at 0x7fd14845bef0>"
      ]
     },
     "metadata": {},
     "output_type": "display_data"
    }
   ],
   "source": [
    "# tmp = df_msg_incl_bs_wo_coord.join(pos_train)\n",
    "# tmp = tmp[[\"lat\", \"lng\"]]\n",
    "# tmp.drop_duplicates(inplace=True)\n",
    "\n",
    "# t0 = dt.datetime.now()\n",
    "import folium\n",
    "\n",
    "\n",
    "# Barycentre Coordinates\n",
    "barycentre = [46.398719, 4.233663]\n",
    "\n",
    "# Sample (0.33% over 1.5 million) \n",
    "data = df_for_map.values\n",
    "\n",
    "# Build map \n",
    "map_bases = folium.Map(location=barycentre, zoom_start=3.70, \n",
    "tiles='cartodbpositron', width=640, height=480)\n",
    "\n",
    "# Plot coordinates using comprehension list\n",
    "[folium.CircleMarker(data[i][2],\n",
    "                     color='#71ddc0',\n",
    "                     fill_color='#71ddc0',\n",
    "                     popup=data[i][0].split(\"_\")[0] + \" | # collected shots | {:,}\".format(data[i][1]),\n",
    "                     radius=data[i][1]*170/df_for_map[\"total_shots\"].sum()).add_to(map_bases)\n",
    " for i in range(len(data))]\n",
    "\n",
    "\n",
    "# Display map in Jupyter\n",
    "display(map_bases)"
   ]
  },
  {
   "cell_type": "code",
   "execution_count": 282,
   "metadata": {
    "ExecuteTime": {
     "end_time": "2019-02-21T15:43:24.987207Z",
     "start_time": "2019-02-21T15:43:24.967216Z"
    }
   },
   "outputs": [
    {
     "data": {
      "text/html": [
       "<div>\n",
       "<style scoped>\n",
       "    .dataframe tbody tr th:only-of-type {\n",
       "        vertical-align: middle;\n",
       "    }\n",
       "\n",
       "    .dataframe tbody tr th {\n",
       "        vertical-align: top;\n",
       "    }\n",
       "\n",
       "    .dataframe thead th {\n",
       "        text-align: right;\n",
       "    }\n",
       "</style>\n",
       "<table border=\"1\" class=\"dataframe\">\n",
       "  <thead>\n",
       "    <tr style=\"text-align: right;\">\n",
       "      <th></th>\n",
       "      <th>league</th>\n",
       "      <th>total_shots</th>\n",
       "      <th>coordinates</th>\n",
       "      <th>lat</th>\n",
       "      <th>lon</th>\n",
       "    </tr>\n",
       "  </thead>\n",
       "  <tbody>\n",
       "    <tr>\n",
       "      <th>0</th>\n",
       "      <td>England_PL</td>\n",
       "      <td>71010</td>\n",
       "      <td>[53.068819, -1.64693]</td>\n",
       "      <td>53.068819</td>\n",
       "      <td>-1.646930</td>\n",
       "    </tr>\n",
       "    <tr>\n",
       "      <th>1</th>\n",
       "      <td>France_Ligue1</td>\n",
       "      <td>34977</td>\n",
       "      <td>[46.398719, 4.233663]</td>\n",
       "      <td>46.398719</td>\n",
       "      <td>4.233663</td>\n",
       "    </tr>\n",
       "    <tr>\n",
       "      <th>2</th>\n",
       "      <td>Germany_Bundesliga</td>\n",
       "      <td>39050</td>\n",
       "      <td>[50.771006, 10.553582]</td>\n",
       "      <td>50.771006</td>\n",
       "      <td>10.553582</td>\n",
       "    </tr>\n",
       "    <tr>\n",
       "      <th>3</th>\n",
       "      <td>Italy_SerieA</td>\n",
       "      <td>49378</td>\n",
       "      <td>[41.992834, 13.884544]</td>\n",
       "      <td>41.992834</td>\n",
       "      <td>13.884544</td>\n",
       "    </tr>\n",
       "    <tr>\n",
       "      <th>4</th>\n",
       "      <td>Spain_Liga</td>\n",
       "      <td>45997</td>\n",
       "      <td>[39.981012, -4.358449]</td>\n",
       "      <td>39.981012</td>\n",
       "      <td>-4.358449</td>\n",
       "    </tr>\n",
       "  </tbody>\n",
       "</table>\n",
       "</div>"
      ],
      "text/plain": [
       "               league  total_shots             coordinates        lat  \\\n",
       "0          England_PL        71010   [53.068819, -1.64693]  53.068819   \n",
       "1       France_Ligue1        34977   [46.398719, 4.233663]  46.398719   \n",
       "2  Germany_Bundesliga        39050  [50.771006, 10.553582]  50.771006   \n",
       "3        Italy_SerieA        49378  [41.992834, 13.884544]  41.992834   \n",
       "4          Spain_Liga        45997  [39.981012, -4.358449]  39.981012   \n",
       "\n",
       "         lon  \n",
       "0  -1.646930  \n",
       "1   4.233663  \n",
       "2  10.553582  \n",
       "3  13.884544  \n",
       "4  -4.358449  "
      ]
     },
     "execution_count": 282,
     "metadata": {},
     "output_type": "execute_result"
    }
   ],
   "source": [
    "df_for_map[\"lat\"] = df_for_map[\"coordinates\"].apply(lambda x: x[0])\n",
    "df_for_map[\"lon\"] = df_for_map[\"coordinates\"].apply(lambda x: x[1])"
   ]
  },
  {
   "cell_type": "markdown",
   "metadata": {},
   "source": [
    "## Assess evolution of average number of shots"
   ]
  },
  {
   "cell_type": "code",
   "execution_count": 133,
   "metadata": {
    "ExecuteTime": {
     "end_time": "2019-02-15T22:35:15.359203Z",
     "start_time": "2019-02-15T22:35:15.332728Z"
    }
   },
   "outputs": [],
   "source": [
    "test = df_agg[df_agg[\"league\"].isin(MAJOR_LEAGUES)].pivot_table(index=\"season_year\", values=\"shots_per_game\", columns=\"league\")"
   ]
  },
  {
   "cell_type": "code",
   "execution_count": 143,
   "metadata": {
    "ExecuteTime": {
     "end_time": "2019-02-15T23:17:39.966761Z",
     "start_time": "2019-02-15T23:17:36.353814Z"
    }
   },
   "outputs": [
    {
     "data": {
      "text/html": [
       "<iframe id=\"igraph\" scrolling=\"no\" style=\"border:none;\" seamless=\"seamless\" src=\"https://plot.ly/~theon/74.embed\" height=\"525px\" width=\"100%\"></iframe>"
      ],
      "text/plain": [
       "<plotly.tools.PlotlyDisplay object>"
      ]
     },
     "execution_count": 143,
     "metadata": {},
     "output_type": "execute_result"
    }
   ],
   "source": [
    "import plotly.plotly as py\n",
    "import cufflinks as cf\n",
    "import pandas as pd\n",
    "\n",
    "# cf.set_config_file(offline=True, world_readable=True, theme='ggplot')\n",
    "\n",
    "# df = cf.datagen.lines()\n",
    "# df.head()\n",
    "\n",
    "# Create a simple dataframe..\n",
    "\n",
    "test.iplot(kind='scatter', filename='test')\n",
    "\n",
    "colors = ['blue', 'orange', 'green','red', 'purple'] # Individual Line Color\n",
    "dashes = ['solid', 'solid', 'dashdot', 'dash', 'solid'] # Individual Line Style\n",
    "widths = [2, 4, 6, 1, 4] # Individual Line Width\n",
    "\n",
    "layout = {\n",
    "    \"title\": 'Average numbers of shots per game by season',\n",
    "    \"hovermode\": 'closest',\n",
    "    \"xaxis\": dict(\n",
    "        title='Season (Year)'\n",
    "    ),\n",
    "    \"yaxis\": dict(\n",
    "        title='Average number of shots taken per game'\n",
    "    )\n",
    "}\n",
    "\n",
    "\n",
    "test.iplot(kind='scatter', mode='lines', colors=colors, dash=dashes, layout=layout, filename='line-style-and-color')\n",
    "\n",
    "# plot_url"
   ]
  },
  {
   "cell_type": "markdown",
   "metadata": {},
   "source": [
    "## Show distribution of shots by part of the body"
   ]
  },
  {
   "cell_type": "code",
   "execution_count": 150,
   "metadata": {
    "ExecuteTime": {
     "end_time": "2019-02-15T23:51:25.507469Z",
     "start_time": "2019-02-15T23:51:25.502436Z"
    }
   },
   "outputs": [],
   "source": [
    "pal = sns.cubehelix_palette(4, start=2.5, rot=0, dark=0.4, light=.93, reverse=True)\n",
    "pal_hex = pal.as_hex() "
   ]
  },
  {
   "cell_type": "code",
   "execution_count": 176,
   "metadata": {
    "ExecuteTime": {
     "end_time": "2019-02-16T00:15:48.474988Z",
     "start_time": "2019-02-16T00:15:48.419598Z"
    },
    "collapsed": true
   },
   "outputs": [
    {
     "data": {
      "text/html": [
       "<div>\n",
       "<style scoped>\n",
       "    .dataframe tbody tr th:only-of-type {\n",
       "        vertical-align: middle;\n",
       "    }\n",
       "\n",
       "    .dataframe tbody tr th {\n",
       "        vertical-align: top;\n",
       "    }\n",
       "\n",
       "    .dataframe thead th {\n",
       "        text-align: right;\n",
       "    }\n",
       "</style>\n",
       "<table border=\"1\" class=\"dataframe\">\n",
       "  <thead>\n",
       "    <tr style=\"text-align: right;\">\n",
       "      <th></th>\n",
       "      <th>part</th>\n",
       "      <th>total_shots</th>\n",
       "    </tr>\n",
       "  </thead>\n",
       "  <tbody>\n",
       "    <tr>\n",
       "      <th>0</th>\n",
       "      <td>head</td>\n",
       "      <td>42642</td>\n",
       "    </tr>\n",
       "    <tr>\n",
       "      <th>1</th>\n",
       "      <td>left_foot</td>\n",
       "      <td>78291</td>\n",
       "    </tr>\n",
       "    <tr>\n",
       "      <th>2</th>\n",
       "      <td>other_parts</td>\n",
       "      <td>955</td>\n",
       "    </tr>\n",
       "    <tr>\n",
       "      <th>3</th>\n",
       "      <td>right_foot</td>\n",
       "      <td>130526</td>\n",
       "    </tr>\n",
       "    <tr>\n",
       "      <th>4</th>\n",
       "      <td>unknown</td>\n",
       "      <td>24977</td>\n",
       "    </tr>\n",
       "  </tbody>\n",
       "</table>\n",
       "</div>"
      ],
      "text/plain": [
       "          part  total_shots\n",
       "0         head        42642\n",
       "1    left_foot        78291\n",
       "2  other_parts          955\n",
       "3   right_foot       130526\n",
       "4      unknown        24977"
      ]
     },
     "execution_count": 176,
     "metadata": {},
     "output_type": "execute_result"
    }
   ],
   "source": [
    "df_agg_part_league = df.groupby([\"league\", \"part\"]).agg({\"shot_by\": \"count\"}).reset_index()\n",
    "df_agg_part_league.columns = [\"league\", \"part\", \"total_shots\"]\n",
    "df_agg_part = df_agg_part_league.groupby(\"part\").agg({\"total_shots\": \"sum\"}).reset_index()"
   ]
  },
  {
   "cell_type": "code",
   "execution_count": 177,
   "metadata": {
    "ExecuteTime": {
     "end_time": "2019-02-16T00:15:59.947770Z",
     "start_time": "2019-02-16T00:15:58.504439Z"
    }
   },
   "outputs": [
    {
     "data": {
      "text/html": [
       "<iframe id=\"igraph\" scrolling=\"no\" style=\"border:none;\" seamless=\"seamless\" src=\"https://plot.ly/~theon/76.embed\" height=\"525px\" width=\"100%\"></iframe>"
      ],
      "text/plain": [
       "<plotly.tools.PlotlyDisplay object>"
      ]
     },
     "execution_count": 177,
     "metadata": {},
     "output_type": "execute_result"
    }
   ],
   "source": [
    "labels = df_agg_part.part.values\n",
    "values = df_agg_part.total_shots.values\n",
    "colors = pal_hex + [\"#a2a7ad\"]\n",
    "\n",
    "trace = go.Pie(labels=labels, values=values,\n",
    "               hoverinfo='label+percent', textinfo='value', \n",
    "               textfont=dict(size=13),\n",
    "               marker=dict(colors=colors, \n",
    "                           line=dict(color='#000000', width=0.5)))\n",
    "\n",
    "layout = {\n",
    "    \"title\": 'Repartition of collected shots data by parts used',\n",
    "}\n",
    "\n",
    "fig = go.Figure(data=[trace], layout=layout)\n",
    "py.iplot(fig, filename='pie_chart_part')"
   ]
  },
  {
   "cell_type": "code",
   "execution_count": 187,
   "metadata": {
    "ExecuteTime": {
     "end_time": "2019-02-16T00:19:16.264427Z",
     "start_time": "2019-02-16T00:19:16.260606Z"
    }
   },
   "outputs": [],
   "source": [
    "part = [\"right_foot\", \"left_foot\", \"head\", \"other_parts\", \"unknown\"]\n",
    "COLOR_SHOTS = dict(zip(part, pal_hex + [\"#a2a7ad\"]))"
   ]
  },
  {
   "cell_type": "code",
   "execution_count": 191,
   "metadata": {
    "ExecuteTime": {
     "end_time": "2019-02-16T00:19:29.011439Z",
     "start_time": "2019-02-16T00:19:25.473032Z"
    }
   },
   "outputs": [
    {
     "data": {
      "text/html": [
       "<iframe id=\"igraph\" scrolling=\"no\" style=\"border:none;\" seamless=\"seamless\" src=\"https://plot.ly/~theon/12.embed\" height=\"525px\" width=\"100%\"></iframe>"
      ],
      "text/plain": [
       "<plotly.tools.PlotlyDisplay object>"
      ]
     },
     "execution_count": 191,
     "metadata": {},
     "output_type": "execute_result"
    }
   ],
   "source": [
    "data = [go.Bar(x=df_agg_part_league[df_agg_part_league[\"part\"] == part].league,\n",
    "               y=df_agg_part_league[df_agg_part_league[\"part\"] == part].total_shots,\n",
    "               name=part,\n",
    "                  marker=dict(color=COLOR_SHOTS[part])) \n",
    "          for part in part]\n",
    "layout = go.Layout(\n",
    "    barmode='stack',\n",
    "    title=\"Number of shots collected by league\"\n",
    ")\n",
    "\n",
    "\n",
    "fig = go.Figure(data=data, layout=layout)\n",
    "py.plotly.iplot(fig, filename='stacked-bar')"
   ]
  },
  {
   "cell_type": "markdown",
   "metadata": {},
   "source": [
    "# Data visualization | Pitch level"
   ]
  },
  {
   "cell_type": "markdown",
   "metadata": {},
   "source": [
    "## Define pitch visualization functions"
   ]
  },
  {
   "cell_type": "code",
   "execution_count": 18,
   "metadata": {
    "ExecuteTime": {
     "end_time": "2019-02-27T11:12:31.611089Z",
     "start_time": "2019-02-27T11:12:31.601606Z"
    }
   },
   "outputs": [],
   "source": [
    "def draw_shots(shots, arrow=False):\n",
    "    for index, shot in shots.iterrows():\n",
    "        start_x = shot[\"pos_start\"][0]\n",
    "        start_y = shot[\"pos_start\"][1]\n",
    "        delta_x = shot[\"pos_delta\"][0]\n",
    "        delta_y = shot[\"pos_delta\"][1]\n",
    "        c = COLOR_SHOT[shot[\"result_processed\"]][0]\n",
    "        a = COLOR_SHOT[shot[\"result_processed\"]][1]\n",
    "        \n",
    "        if arrow:\n",
    "            plt.arrow(shot[\"pos_start\"][0], shot[\"pos_start\"][1], shot[\"pos_delta\"][0], shot[\"pos_delta\"][1],\n",
    "                  head_width=1,\n",
    "                  head_length=1,\n",
    "                  color=c,\n",
    "                  alpha=a,\n",
    "                  length_includes_head=True)\n",
    "        else:\n",
    "            plt.scatter(shot[\"pos_start\"][0], shot[\"pos_start\"][1],\n",
    "                        c = c,\n",
    "                        label = shot[\"result_processed\"],\n",
    "                        s=5)"
   ]
  },
  {
   "cell_type": "code",
   "execution_count": 19,
   "metadata": {
    "ExecuteTime": {
     "end_time": "2019-02-27T11:12:31.916814Z",
     "start_time": "2019-02-27T11:12:31.895482Z"
    }
   },
   "outputs": [],
   "source": [
    "x_size = 105.0\n",
    "y_size = 68.0\n",
    "\n",
    "from matplotlib.patches import Arc\n",
    "\n",
    "def create_pitch(ax, lines_color=\"white\"):\n",
    "    #set up field    \n",
    "    \n",
    "    ax.xaxis.set_visible(False)\n",
    "    ax.yaxis.set_visible(False)\n",
    "\n",
    "    plt.xlim([0,x_size])\n",
    "    plt.ylim([0,y_size])\n",
    "\n",
    "    box_height = ((40.3)/y_size)\n",
    "    box_width = (16.5/x_size)\n",
    "\n",
    "    keeper_zone_height = ((18.27)/y_size)\n",
    "    keeper_zone_width = (5.5/x_size)\n",
    "\n",
    "    r1 = plt.Rectangle((0, 0), 1, 1,\n",
    "                       edgecolor=lines_color, facecolor=\"none\", alpha=1, transform=ax.transAxes) #pitch\n",
    "\n",
    "    r2 = plt.Line2D([0.5, 0.5], [1, 0],\n",
    "                    c=lines_color, transform=ax.transAxes) #half-way line\n",
    "\n",
    "    r3 = plt.Rectangle((0, (1-box_height)/2), box_width, box_height,\n",
    "                       ec=lines_color, fc='none', transform=ax.transAxes) #penalty area\n",
    "\n",
    "    r4 = plt.Rectangle((1-box_width, (1-box_height)/2), box_width, box_height,\n",
    "                       ec=lines_color, fc='none', transform=ax.transAxes) #penalty area\n",
    "\n",
    "    r5 = Ellipse((0.5, 0.5), 9.15*2/x_size, 9.15*2/y_size,\n",
    "                                    ec=lines_color, fc='none', transform=ax.transAxes) #middle circle\n",
    "\n",
    "    r6 = plt.Rectangle((1-keeper_zone_width, (1-keeper_zone_height)/2), keeper_zone_width, keeper_zone_height,\n",
    "                       ec=lines_color, fc='none', transform=ax.transAxes) #keeper zone\n",
    "\n",
    "    r7 = plt.Rectangle((0, (1-keeper_zone_height)/2), keeper_zone_width, keeper_zone_height,\n",
    "                       ec=lines_color, fc='none', transform=ax.transAxes) #keeper zone\n",
    "\n",
    "    r8 = plt.scatter(52.5, 34, s=15, color=lines_color) \n",
    "    \n",
    "    r9 = plt.scatter(11, 34, s=15, color=lines_color) \n",
    "    \n",
    "    r10 = plt.scatter(105-11, 34, s=15, color=lines_color)\n",
    "    \n",
    "#     arc_1 = plt.Arc((9.7,40),height=16.2,width=16.2,angle=0,theta1=310,theta2=50,color=\"black\")\n",
    "#     arc_2 = plt.Arc((110.3,40),height=16.2,width=16.2,angle=0,theta1=130,theta2=230,color=\"black\")\n",
    "    \n",
    "    ax.add_patch(Arc((11.3,68/2),height=16.2,width=16.2,angle=0,theta1=310,theta2=50,color=lines_color))\n",
    "    ax.add_patch(Arc((105-11.3,68/2),height=16.2,width=16.2,angle=0,theta1=130,theta2=230,color=lines_color))\n",
    "        \n",
    "    fig.lines.extend([r1, r2, r3, r4, r5, r6, r7, r8, r9, r10])"
   ]
  },
  {
   "cell_type": "code",
   "execution_count": 20,
   "metadata": {
    "ExecuteTime": {
     "end_time": "2019-02-27T11:12:32.585183Z",
     "start_time": "2019-02-27T11:12:32.580655Z"
    }
   },
   "outputs": [],
   "source": [
    "def draw_shots_by_zone(shots, arrow=False):\n",
    "    for index, shot in shots.iterrows():\n",
    "        start_x = shot[\"pos_start\"][0]\n",
    "        start_y = shot[\"pos_start\"][1]\n",
    "        delta_x = shot[\"pos_delta\"][0]\n",
    "        delta_y = shot[\"pos_delta\"][1]\n",
    "        c = COLOR_ZONE[shot[\"zone\"]]\n",
    "        \n",
    "        if arrow:\n",
    "            plt.arrow(shot[\"pos_start\"][0], shot[\"pos_start\"][1], shot[\"pos_delta\"][0], shot[\"pos_delta\"][1],\n",
    "                  head_width=1,\n",
    "                  head_length=1,\n",
    "                  color=c,\n",
    "                  length_includes_head=True)\n",
    "        else:\n",
    "            plt.scatter(shot[\"pos_start\"][0], shot[\"pos_start\"][1],\n",
    "                        c = c,\n",
    "                        label = shot[\"result_processed\"],\n",
    "                        s=5)"
   ]
  },
  {
   "cell_type": "code",
   "execution_count": 16,
   "metadata": {
    "ExecuteTime": {
     "end_time": "2019-02-24T22:49:16.743342Z",
     "start_time": "2019-02-24T22:49:16.088782Z"
    }
   },
   "outputs": [
    {
     "data": {
      "image/png": "[encoded data removed]",
      "text/plain": [
       "<Figure size 1260x816 with 1 Axes>"
      ]
     },
     "metadata": {},
     "output_type": "display_data"
    }
   ],
   "source": [
    "pos_x = [pos[0] for pos in df[\"pos_start\"].iloc[0:50]]\n",
    "pos_y = [pos[1] for pos in df[\"pos_start\"].iloc[0:50]]\n",
    "\n",
    "# Colours options \n",
    "pitch_color = '#4E7E4F'\n",
    "line_color = 'white'\n",
    "\n",
    "\n",
    "fig = plt.figure(figsize=(x_size/6, y_size/6))\n",
    "fig.patch.set_facecolor(pitch_color)\n",
    "ax = fig.add_subplot(1, 1, 1, facecolor=pitch_color)\n",
    "\n",
    "#shades: give us the heat map we desire\n",
    "# n_levels: draw more lines, the larger n, the more bluerry it loos\n",
    "pal = sns.cubehelix_palette(25, start=2, rot=0, dark=0.4, light=.93, reverse=True, as_cmap=True)\n",
    "# sns.kdeplot(x, y, cmap=pal);\n",
    "sns.kdeplot(pos_x, pos_y, shade = \"True\", cmap=pal, n_levels = 30)\n",
    "# draw_shots(df_all.iloc[0:5000], arrow=False)\n",
    "plt.xlim([0,x_size])\n",
    "plt.ylim([0,y_size])\n",
    "plt.axis(\"off\")\n",
    "create_pitch(ax, lines_color=line_color)\n",
    "# plt.title(\"Distribution heatmap of shot positions on a sample of 50,000 shots\", color=\"white\", size=15)\n",
    "plt.show()"
   ]
  },
  {
   "cell_type": "markdown",
   "metadata": {},
   "source": [
    "## Visualize example of distribution on 5k"
   ]
  },
  {
   "cell_type": "code",
   "execution_count": 22,
   "metadata": {
    "ExecuteTime": {
     "end_time": "2019-02-24T22:58:28.342935Z",
     "start_time": "2019-02-24T22:58:24.408987Z"
    }
   },
   "outputs": [
    {
     "data": {
      "image/png": "[encoded data removed]",
      "text/plain": [
       "<Figure size 1260x816 with 1 Axes>"
      ]
     },
     "metadata": {},
     "output_type": "display_data"
    }
   ],
   "source": [
    "pos_x = [pos[0] for pos in df[\"pos_start\"].sample(n=5000, random_state=1)]\n",
    "pos_y = [pos[1] for pos in df[\"pos_start\"].sample(n=5000, random_state=1)]\n",
    "\n",
    "# Colours options \n",
    "pitch_color = '#4E7E4F'\n",
    "line_color = 'white'\n",
    "\n",
    "\n",
    "fig = plt.figure(figsize=(x_size/6, y_size/6))\n",
    "fig.patch.set_facecolor(pitch_color)\n",
    "ax = fig.add_subplot(1, 1, 1, facecolor=pitch_color)\n",
    "\n",
    "#shades: give us the heat map we desire\n",
    "# n_levels: draw more lines, the larger n, the more bluerry it loos\n",
    "pal = sns.cubehelix_palette(25, start=2, rot=0, dark=0.4, light=.93, reverse=True, as_cmap=True)\n",
    "# sns.kdeplot(x, y, cmap=pal);\n",
    "sns.kdeplot(pos_x, pos_y, shade = \"True\", cmap=pal, n_levels = 30)\n",
    "# draw_shots(df_all.iloc[0:5000], arrow=False)\n",
    "plt.xlim([0,x_size])\n",
    "plt.ylim([0,y_size])\n",
    "plt.axis(\"off\")\n",
    "create_pitch(ax, lines_color=line_color)\n",
    "# plt.title(\"Distribution heatmap of shot positions on a sample of 50,000 shots\", color=\"white\", size=15)\n",
    "plt.show()"
   ]
  },
  {
   "cell_type": "code",
   "execution_count": 146,
   "metadata": {
    "ExecuteTime": {
     "end_time": "2019-02-24T20:15:30.778729Z",
     "start_time": "2019-02-24T20:14:51.391589Z"
    }
   },
   "outputs": [
    {
     "data": {
      "image/png": "[encoded data removed]",
      "text/plain": [
       "<Figure size 1260x816 with 1 Axes>"
      ]
     },
     "metadata": {},
     "output_type": "display_data"
    }
   ],
   "source": [
    "pos_x = [pos[0] for pos in df[df[\"is_goal\"]==1][\"pos_start\"]]\n",
    "pos_y = [pos[1] for pos in df[df[\"is_goal\"]==1][\"pos_start\"]]\n",
    "\n",
    "# Colours options \n",
    "pitch_color = '#4E7E4F'\n",
    "line_color = 'white'\n",
    "\n",
    "\n",
    "fig = plt.figure(figsize=(x_size/6, y_size/6))\n",
    "fig.patch.set_facecolor(pitch_color)\n",
    "ax = fig.add_subplot(1, 1, 1, facecolor=pitch_color)\n",
    "\n",
    "#shades: give us the heat map we desire\n",
    "# n_levels: draw more lines, the larger n, the more bluerry it loos\n",
    "pal = sns.cubehelix_palette(25, start=2, rot=0, dark=0.4, light=.93, reverse=True, as_cmap=True)\n",
    "# sns.kdeplot(x, y, cmap=pal);\n",
    "sns.kdeplot(pos_x, pos_y, shade = \"True\", cmap=pal, n_levels = 30)\n",
    "# draw_shots(df_all.iloc[0:5000], arrow=False)\n",
    "plt.xlim([0,x_size])\n",
    "plt.ylim([0,y_size])\n",
    "plt.axis(\"off\")\n",
    "create_pitch(ax, lines_color=line_color)\n",
    "# plt.title(\"Distribution heatmap of shot positions on a sample of 50,000 shots\", color=\"white\", size=15)\n",
    "plt.show()"
   ]
  },
  {
   "cell_type": "code",
   "execution_count": 304,
   "metadata": {
    "ExecuteTime": {
     "end_time": "2019-02-25T22:54:27.787403Z",
     "start_time": "2019-02-25T22:54:27.409003Z"
    }
   },
   "outputs": [],
   "source": [
    "df[\"check_start_0\"] = df[\"pos_start\"].apply(lambda x: x[0])\n",
    "df[\"check_start_1\"] = df[\"pos_start\"].apply(lambda x: x[1])\n",
    "df[\"check_end_0\"] = df[\"pos_end\"].apply(lambda x: x[0])\n",
    "df[\"check_end_1\"] = df[\"pos_end\"].apply(lambda x: x[1])"
   ]
  },
  {
   "cell_type": "code",
   "execution_count": 183,
   "metadata": {
    "ExecuteTime": {
     "end_time": "2019-02-24T21:01:35.015486Z",
     "start_time": "2019-02-24T21:01:34.822690Z"
    }
   },
   "outputs": [
    {
     "data": {
      "image/png": "[encoded data removed]",
      "text/plain": [
       "<Figure size 1260x816 with 1 Axes>"
      ]
     },
     "metadata": {},
     "output_type": "display_data"
    }
   ],
   "source": [
    "# Example of Germany shots against Brazil after adjusting x and y \n",
    "\n",
    "fig = plt.figure(figsize=(x_size/6, y_size/6))\n",
    "fig.patch.set_facecolor('#4E7E4F')\n",
    "ax = fig.add_subplot(1, 1, 1, facecolor='#4E7E4F')\n",
    "\n",
    "#shades: give us the heat map we desire\n",
    "# n_levels: draw more lines, the larger n, the more bluerry it loos\n",
    "pal = sns.cubehelix_palette(25, start=2, rot=0, dark=0.4, light=.93, reverse=True, as_cmap=True)\n",
    "# sns.kdeplot(x, y, cmap=pal);\n",
    "draw_shots(df[(df[\"fixture_id\"]==731827)&(df[\"shot_by\"]==\"away\")], arrow=True)\n",
    "plt.xlim([0,x_size])\n",
    "plt.ylim([0,y_size])\n",
    "plt.axis(\"off\")\n",
    "create_pitch(ax)\n",
    "\n",
    "# Add legend of shots data\n",
    "\n",
    "custom_lines = [Line2D([0], [0], color=COLOR_SHOT[\"goal\"][0], lw=2),\n",
    "                Line2D([0], [0], color=COLOR_SHOT[\"saved\"][0], lw=2),\n",
    "                Line2D([0], [0], color=COLOR_SHOT[\"blocked\"][0], lw=2),\n",
    "                Line2D([0], [0], color=COLOR_SHOT[\"off_target\"][0], lw=2)\n",
    "               ]\n",
    "\n",
    "ax.legend(custom_lines, ['Goal', 'Saved', 'Blocked', 'Off-target'])\n",
    "\n",
    "\n",
    "plt.show()"
   ]
  },
  {
   "cell_type": "markdown",
   "metadata": {},
   "source": [
    "# Matrice Shots per Goals / Total shots"
   ]
  },
  {
   "cell_type": "markdown",
   "metadata": {},
   "source": [
    "https://plot.ly/python/multiple-transforms/"
   ]
  },
  {
   "cell_type": "code",
   "execution_count": 307,
   "metadata": {
    "ExecuteTime": {
     "end_time": "2019-02-21T17:35:24.855027Z",
     "start_time": "2019-02-21T17:35:24.848282Z"
    }
   },
   "outputs": [],
   "source": [
    "def get_columns_reviewed(side):\n",
    "    if side == \"away\":\n",
    "        columns_reviewed = ['team', 'team_id', 'fixture_id', 'link', 'minute',\n",
    "       'part', 'result', 'score', 'shot_by', 'x1', 'x2', 'y1', 'y2',\n",
    "       'match_date_y', 'season_year', 'league', 'result_processed',\n",
    "       'pos_start', 'pos_end', 'pos_delta', 'is_goal', 'zone', 'xp_goal']\n",
    "    else:\n",
    "        columns_reviewed = ['fixture_id', 'team', 'team_id', 'link', 'minute',\n",
    "       'part', 'result', 'score', 'shot_by', 'x1', 'x2', 'y1', 'y2',\n",
    "       'match_date_y', 'season_year', 'league', 'result_processed',\n",
    "       'pos_start', 'pos_end', 'pos_delta', 'is_goal', 'zone', 'xp_goal']\n",
    "    return columns_reviewed"
   ]
  },
  {
   "cell_type": "code",
   "execution_count": 309,
   "metadata": {
    "ExecuteTime": {
     "end_time": "2019-02-21T17:35:27.439505Z",
     "start_time": "2019-02-21T17:35:27.427987Z"
    }
   },
   "outputs": [],
   "source": [
    "def process_df(df, side):\n",
    "    side_against = \"away\" if side == \"home\" else \"home\"\n",
    "    df_processed = df[df.columns.drop(list(df.filter(regex=side_against)))]\n",
    "    df_processed = df_processed[df_processed[\"shot_by\"]==side]\n",
    "    df_processed.columns = get_columns_reviewed(side)\n",
    "    return df_processed"
   ]
  },
  {
   "cell_type": "code",
   "execution_count": 310,
   "metadata": {
    "ExecuteTime": {
     "end_time": "2019-02-21T17:35:28.533595Z",
     "start_time": "2019-02-21T17:35:28.338493Z"
    }
   },
   "outputs": [],
   "source": [
    "df_home = process_df(df, \"home\")\n",
    "df_away = process_df(df, \"away\")"
   ]
  },
  {
   "cell_type": "code",
   "execution_count": 311,
   "metadata": {
    "ExecuteTime": {
     "end_time": "2019-02-21T17:35:30.782649Z",
     "start_time": "2019-02-21T17:35:30.642860Z"
    }
   },
   "outputs": [],
   "source": [
    "df_team_view = df_away.append(df_home)"
   ]
  },
  {
   "cell_type": "code",
   "execution_count": 312,
   "metadata": {
    "ExecuteTime": {
     "end_time": "2019-02-21T17:35:35.592449Z",
     "start_time": "2019-02-21T17:35:35.292920Z"
    }
   },
   "outputs": [],
   "source": [
    "df_macro_stat = df_team_view[[\"team\", \"fixture_id\", \"league\", \"season_year\", \"shot_by\", \"is_goal\"]]\\\n",
    ".groupby([\"league\", \"team\", \"season_year\", \"fixture_id\"])\\\n",
    ".agg({\"shot_by\": \"count\", \"is_goal\": \"sum\"})\\\n",
    ".reset_index()"
   ]
  },
  {
   "cell_type": "code",
   "execution_count": 313,
   "metadata": {
    "ExecuteTime": {
     "end_time": "2019-02-21T17:35:36.391873Z",
     "start_time": "2019-02-21T17:35:36.330336Z"
    }
   },
   "outputs": [],
   "source": [
    "df_team_stat = df_macro_stat.groupby([\"league\", \"team\"])\\\n",
    ".agg({\"fixture_id\": \"count\", \"shot_by\": [\"sum\", \"mean\"], \"is_goal\": \"sum\"})\\\n",
    ".reset_index()"
   ]
  },
  {
   "cell_type": "code",
   "execution_count": 314,
   "metadata": {
    "ExecuteTime": {
     "end_time": "2019-02-21T17:35:37.383341Z",
     "start_time": "2019-02-21T17:35:37.370877Z"
    }
   },
   "outputs": [],
   "source": [
    "df_team_stat.columns = ['_'.join(col) for col in df_team_stat.columns.values]\n",
    "df_team_stat[\"goal_per_shot\"] = df_team_stat[\"is_goal_sum\"] / df_team_stat[\"shot_by_sum\"]"
   ]
  },
  {
   "cell_type": "code",
   "execution_count": 320,
   "metadata": {
    "ExecuteTime": {
     "end_time": "2019-02-21T17:39:52.514493Z",
     "start_time": "2019-02-21T17:39:52.494941Z"
    }
   },
   "outputs": [
    {
     "data": {
      "text/html": [
       "<div>\n",
       "<style scoped>\n",
       "    .dataframe tbody tr th:only-of-type {\n",
       "        vertical-align: middle;\n",
       "    }\n",
       "\n",
       "    .dataframe tbody tr th {\n",
       "        vertical-align: top;\n",
       "    }\n",
       "\n",
       "    .dataframe thead th {\n",
       "        text-align: right;\n",
       "    }\n",
       "</style>\n",
       "<table border=\"1\" class=\"dataframe\">\n",
       "  <thead>\n",
       "    <tr style=\"text-align: right;\">\n",
       "      <th></th>\n",
       "      <th>league_</th>\n",
       "      <th>team_</th>\n",
       "      <th>fixture_id_count</th>\n",
       "      <th>shot_by_sum</th>\n",
       "      <th>shot_by_mean</th>\n",
       "      <th>is_goal_sum</th>\n",
       "      <th>goal_per_shot</th>\n",
       "    </tr>\n",
       "  </thead>\n",
       "  <tbody>\n",
       "    <tr>\n",
       "      <th>0</th>\n",
       "      <td>England_PL</td>\n",
       "      <td>Arsenal</td>\n",
       "      <td>266</td>\n",
       "      <td>4088</td>\n",
       "      <td>15.368421</td>\n",
       "      <td>447</td>\n",
       "      <td>0.109344</td>\n",
       "    </tr>\n",
       "    <tr>\n",
       "      <th>1</th>\n",
       "      <td>England_PL</td>\n",
       "      <td>Aston Villa</td>\n",
       "      <td>228</td>\n",
       "      <td>2579</td>\n",
       "      <td>11.311404</td>\n",
       "      <td>207</td>\n",
       "      <td>0.080264</td>\n",
       "    </tr>\n",
       "    <tr>\n",
       "      <th>2</th>\n",
       "      <td>England_PL</td>\n",
       "      <td>Birmingham City</td>\n",
       "      <td>38</td>\n",
       "      <td>396</td>\n",
       "      <td>10.421053</td>\n",
       "      <td>35</td>\n",
       "      <td>0.088384</td>\n",
       "    </tr>\n",
       "    <tr>\n",
       "      <th>3</th>\n",
       "      <td>England_PL</td>\n",
       "      <td>Blackburn Rovers</td>\n",
       "      <td>75</td>\n",
       "      <td>891</td>\n",
       "      <td>11.880000</td>\n",
       "      <td>79</td>\n",
       "      <td>0.088664</td>\n",
       "    </tr>\n",
       "    <tr>\n",
       "      <th>4</th>\n",
       "      <td>England_PL</td>\n",
       "      <td>Blackpool</td>\n",
       "      <td>38</td>\n",
       "      <td>521</td>\n",
       "      <td>13.710526</td>\n",
       "      <td>48</td>\n",
       "      <td>0.092131</td>\n",
       "    </tr>\n",
       "  </tbody>\n",
       "</table>\n",
       "</div>"
      ],
      "text/plain": [
       "      league_             team_  fixture_id_count  shot_by_sum  shot_by_mean  \\\n",
       "0  England_PL           Arsenal               266         4088     15.368421   \n",
       "1  England_PL       Aston Villa               228         2579     11.311404   \n",
       "2  England_PL   Birmingham City                38          396     10.421053   \n",
       "3  England_PL  Blackburn Rovers                75          891     11.880000   \n",
       "4  England_PL         Blackpool                38          521     13.710526   \n",
       "\n",
       "   is_goal_sum  goal_per_shot  \n",
       "0          447       0.109344  \n",
       "1          207       0.080264  \n",
       "2           35       0.088384  \n",
       "3           79       0.088664  \n",
       "4           48       0.092131  "
      ]
     },
     "execution_count": 320,
     "metadata": {},
     "output_type": "execute_result"
    }
   ],
   "source": [
    "df_team_stat_light = df_team_stat[df_team_stat[\"league_\"].isin(MAJOR_LEAGUES)]\n",
    "df_team_stat_light.head()"
   ]
  },
  {
   "cell_type": "code",
   "execution_count": 325,
   "metadata": {
    "ExecuteTime": {
     "end_time": "2019-02-21T17:44:49.370048Z",
     "start_time": "2019-02-21T17:44:49.333525Z"
    }
   },
   "outputs": [
    {
     "data": {
      "text/html": [
       "<script type=\"text/javascript\">window.PlotlyConfig = {MathJaxConfig: 'local'};</script><script type=\"text/javascript\">if (window.MathJax) {MathJax.Hub.Config({SVG: {font: \"STIX-Web\"}});}</script><script>requirejs.config({paths: { 'plotly': ['https://cdn.plot.ly/plotly-latest.min']},});if(!window._Plotly) {require(['plotly'],function(plotly) {window._Plotly=plotly;});}</script>"
      ],
      "text/vnd.plotly.v1+html": [
       "<script type=\"text/javascript\">window.PlotlyConfig = {MathJaxConfig: 'local'};</script><script type=\"text/javascript\">if (window.MathJax) {MathJax.Hub.Config({SVG: {font: \"STIX-Web\"}});}</script><script>requirejs.config({paths: { 'plotly': ['https://cdn.plot.ly/plotly-latest.min']},});if(!window._Plotly) {require(['plotly'],function(plotly) {window._Plotly=plotly;});}</script>"
      ]
     },
     "metadata": {},
     "output_type": "display_data"
    },
    {
     "data": {
      "application/vnd.plotly.v1+json": {
       "config": {
        "linkText": "Export to plot.ly",
        "plotlyServerURL": "https://plot.ly",
        "showLink": true
       },
       "data": [
        {
         "mode": "markers",
         "name": "England_PL",
         "text": [
          "Arsenal",
          "Aston Villa",
          "Birmingham City",
          "Blackburn Rovers",
          "Blackpool",
          "Bolton Wanderers",
          "Bournemouth",
          "Burnley",
          "Cardiff City",
          "Chelsea",
          "Crystal Palace",
          "Everton",
          "Fulham",
          "Hull City",
          "Leicester City",
          "Liverpool",
          "Manchester City",
          "Manchester United",
          "Middlesbrough",
          "Newcastle United",
          "Norwich City",
          "Queens Park Rangers",
          "Reading",
          "Southampton",
          "Stoke City",
          "Sunderland",
          "Swansea City",
          "Tottenham Hotspur",
          "Watford",
          "West Bromwich Albion",
          "West Ham United",
          "Wigan Athletic",
          "Wolverhampton Wanderers"
         ],
         "type": "scatter",
         "x": [
          15.368421052631579,
          11.31140350877193,
          10.421052631578947,
          11.88,
          13.710526315789474,
          13.842105263157896,
          11.802631578947368,
          10.671052631578947,
          10.947368421052632,
          16.293233082706767,
          11.381578947368421,
          13.939622641509434,
          12.821192052980132,
          10.903508771929825,
          12.114035087719298,
          16.63157894736842,
          16.770676691729324,
          14.347169811320756,
          9.18421052631579,
          12.87280701754386,
          11.782894736842104,
          13.649122807017545,
          10.18421052631579,
          13.626315789473685,
          11.181132075471698,
          11.6203007518797,
          11.87719298245614,
          16.616541353383457,
          11.197368421052632,
          12.342105263157896,
          13.171052631578947,
          13.228070175438596,
          12.105263157894736
         ],
         "y": [
          0.10934442270058709,
          0.08026366808840636,
          0.08838383838383838,
          0.08866442199775533,
          0.09213051823416507,
          0.07889733840304182,
          0.09587513935340022,
          0.07274969173859433,
          0.06971153846153846,
          0.10290724503922473,
          0.08439306358381503,
          0.0928532755820249,
          0.08367768595041322,
          0.07964601769911504,
          0.10137581462708183,
          0.09358047016274865,
          0.11163416274377942,
          0.11204629142556549,
          0.0659025787965616,
          0.08756388415672912,
          0.08486878838637632,
          0.06683804627249357,
          0.09560723514211886,
          0.08729239088451139,
          0.08504893688828889,
          0.07796829505014559,
          0.08973412112259971,
          0.09208144796380091,
          0.07873090481786134,
          0.08589704538531831,
          0.08458208458208458,
          0.07559681697612732,
          0.08586956521739131
         ]
        },
        {
         "mode": "markers",
         "name": "Italy_SerieA",
         "text": [
          "Atalanta",
          "Bologna",
          "Cagliari",
          "Carpi",
          "Catania",
          "Cesena",
          "Chievo",
          "Crotone",
          "Empoli",
          "Fiorentina",
          "Frosinone",
          "Genoa",
          "Internazionale",
          "Juventus",
          "Lazio",
          "Livorno",
          "Milan",
          "Napoli",
          "Palermo",
          "Parma",
          "Pescara",
          "Roma",
          "Sampdoria",
          "Sassuolo",
          "Siena",
          "Torino",
          "Udinese",
          "Verona"
         ],
         "type": "scatter",
         "x": [
          12.010526315789473,
          11.782894736842104,
          12.059602649006623,
          11,
          12.539473684210526,
          9.289473684210526,
          10.76842105263158,
          10.5,
          11.74561403508772,
          15.468421052631578,
          12.763157894736842,
          11.656084656084657,
          14.9,
          15.963157894736842,
          14.036842105263158,
          12.736842105263158,
          14.473684210526315,
          16.073684210526316,
          11.657894736842104,
          12.56140350877193,
          10.93421052631579,
          15.566137566137566,
          12.4,
          12.046052631578947,
          9,
          13,
          11.615789473684211,
          11.81578947368421
         ],
         "y": [
          0.0876424189307625,
          0.07481853713009493,
          0.08456891817682592,
          0.06937799043062201,
          0.08289611752360965,
          0.0821529745042493,
          0.08113391984359726,
          0.07518796992481203,
          0.07617625093353249,
          0.09595100374276964,
          0.061855670103092786,
          0.0876078075351793,
          0.09572589191098552,
          0.11210023079459282,
          0.09748781402324709,
          0.0743801652892562,
          0.08690909090909091,
          0.11591355599214145,
          0.08465011286681716,
          0.08659217877094973,
          0.06738868832731648,
          0.1114887831407206,
          0.08573853989813243,
          0.09339158929546695,
          0.09064327485380116,
          0.09757085020242914,
          0.09696420480289987,
          0.0935412026726058
         ]
        },
        {
         "mode": "markers",
         "name": "Spain_Liga",
         "text": [
          "Alavés",
          "Almería",
          "Athletic Club",
          "Atlético de Madrid",
          "Barcelona",
          "Celta de Vigo",
          "Córdoba",
          "Deportivo de La Coruña",
          "Eibar",
          "Elche",
          "Espanyol",
          "Getafe",
          "Granada CF",
          "Las Palmas",
          "Leganés",
          "Levante",
          "Mallorca",
          "Málaga",
          "Osasuna",
          "Rayo Vallecano",
          "Real Betis",
          "Real Madrid",
          "Real Sociedad",
          "Real Valladolid",
          "Real Zaragoza",
          "Sevilla",
          "Sporting de Gijón",
          "Valencia",
          "Valencia CF",
          "Villarreal"
         ],
         "type": "scatter",
         "x": [
          10.236842105263158,
          10.131578947368421,
          12.26842105263158,
          12.58421052631579,
          15.642105263157895,
          11.921052631578947,
          10.236842105263158,
          11.888157894736842,
          10.508771929824562,
          10.539473684210526,
          10.047368421052632,
          11.506578947368421,
          10.921052631578947,
          11.092105263157896,
          10.578947368421053,
          10.361842105263158,
          12.473684210526315,
          11.994736842105263,
          11.596491228070175,
          13.572368421052632,
          11.578947368421053,
          18.157894736842106,
          12.636842105263158,
          9.947368421052632,
          11.81578947368421,
          12.663157894736843,
          9.605263157894736,
          14.736842105263158,
          11.867549668874172,
          11.111842105263158
         ],
         "y": [
          0.09768637532133675,
          0.08571428571428572,
          0.1021021021021021,
          0.1329987452948557,
          0.16756393001345896,
          0.09492273730684327,
          0.04627249357326478,
          0.08190370780298838,
          0.09682804674457429,
          0.07116104868913857,
          0.10476689366160294,
          0.07833047455688966,
          0.07132530120481928,
          0.09845788849347568,
          0.0845771144278607,
          0.08317460317460318,
          0.08649789029535865,
          0.08819657744624836,
          0.07337367624810892,
          0.08531265147842947,
          0.08636363636363636,
          0.14405797101449275,
          0.10412328196584757,
          0.10582010582010581,
          0.060133630289532294,
          0.11845386533665836,
          0.10273972602739725,
          0.10892857142857143,
          0.11216517857142858,
          0.11012433392539965
         ]
        },
        {
         "mode": "markers",
         "name": "Germany_Bundesliga",
         "text": [
          "1. FC Köln",
          "1. FC Nürnberg",
          "1. FSV Mainz 05",
          "1899 Hoffenheim",
          "Bayer 04 Leverkusen",
          "Borussia Dortmund",
          "Borussia Mönchengladbach",
          "Eintracht Braunschweig",
          "Eintracht Frankfurt",
          "FC Augsburg",
          "FC Bayern München",
          "FC Ingolstadt 04",
          "FC Schalke 04",
          "Fortuna Düsseldorf",
          "Hamburger SV",
          "Hannover 96",
          "Hertha BSC",
          "RB Leipzig",
          "SC Freiburg",
          "SC Paderborn 07",
          "SV Darmstadt 98",
          "SV Werder Bremen",
          "SpVgg Greuther Fürth",
          "Sport-Club Freiburg",
          "TSG 1899 Hoffenheim",
          "VfB Stuttgart",
          "VfL Wolfsburg"
         ],
         "type": "scatter",
         "x": [
          10.990196078431373,
          11.088235294117647,
          11.852941176470589,
          13.235294117647058,
          14.75294117647059,
          16.147058823529413,
          12.052941176470588,
          11.882352941176471,
          11.788235294117648,
          13.094117647058823,
          17.647058823529413,
          12.676470588235293,
          13.452941176470588,
          9.147058823529411,
          11.905882352941177,
          11.529411764705882,
          9.808823529411764,
          12.764705882352942,
          12.882352941176471,
          13.264705882352942,
          9.911764705882353,
          12.29585798816568,
          10.676470588235293,
          11.196078431372548,
          13.372549019607844,
          12.272058823529411,
          13.676470588235293
         ],
         "y": [
          0.09812667261373774,
          0.09283819628647215,
          0.10124069478908189,
          0.1111111111111111,
          0.11004784688995216,
          0.1209471766848816,
          0.12005856515373353,
          0.06930693069306931,
          0.09580838323353294,
          0.07906558849955077,
          0.13533333333333333,
          0.06148491879350348,
          0.10275470048097946,
          0.10610932475884244,
          0.08547430830039526,
          0.09948979591836735,
          0.10719640179910045,
          0.1359447004608295,
          0.091324200913242,
          0.06430155210643015,
          0.08902077151335312,
          0.10923965351299326,
          0.06336088154269973,
          0.09281961471103327,
          0.10117302052785923,
          0.09406830437387657,
          0.10408602150537634
         ]
        },
        {
         "mode": "markers",
         "name": "France_Ligue1",
         "text": [
          "Ajaccio",
          "Angers",
          "Bastia",
          "Bordeaux",
          "Brest",
          "Caen",
          "Evian Thonon Gaillard",
          "GFC Ajaccio",
          "Guingamp",
          "Lens",
          "Lille",
          "Lorient",
          "Lyon",
          "Marseille",
          "Metz",
          "Monaco",
          "Montpellier",
          "Nancy",
          "Nantes",
          "Nice",
          "Paris Saint-Germain",
          "Reims",
          "Rennes",
          "Sochaux",
          "St Etienne",
          "Toulouse",
          "Troyes",
          "Valenciennes"
         ],
         "type": "scatter",
         "x": [
          9.881578947368421,
          10.18421052631579,
          9.539473684210526,
          12.151315789473685,
          10.68421052631579,
          12.06578947368421,
          10.491228070175438,
          11.421052631578947,
          10.324561403508772,
          10.552631578947368,
          12.730263157894736,
          11.861842105263158,
          13.256578947368421,
          13.592105263157896,
          11.631578947368421,
          12.131578947368421,
          11.111842105263158,
          12.31578947368421,
          10.964912280701755,
          10.263157894736842,
          13.835526315789474,
          10.927631578947368,
          10.592105263157896,
          10.631578947368421,
          11.960526315789474,
          11.269736842105264,
          10.894736842105264,
          11.302631578947368
         ],
         "y": [
          0.09454061251664447,
          0.09302325581395349,
          0.1006896551724138,
          0.08770979967514889,
          0.07142857142857142,
          0.08724100327153762,
          0.09531772575250837,
          0.07603686635944701,
          0.09090909090909091,
          0.06733167082294264,
          0.08372093023255814,
          0.0920687742651137,
          0.11315136476426799,
          0.09777347531461762,
          0.05656108597285068,
          0.10918293564714389,
          0.10301953818827708,
          0.07692307692307693,
          0.0704,
          0.10576923076923077,
          0.1388492629576795,
          0.08910295003010235,
          0.10559006211180125,
          0.08663366336633663,
          0.1034103410341034,
          0.09632224168126094,
          0.0785024154589372,
          0.08847497089639116
         ]
        }
       ],
       "layout": {
        "hovermode": "closest",
        "shapes": [
         {
          "line": {
           "color": "#a2a7ad",
           "dash": "solid",
           "width": 1.5
          },
          "type": "line",
          "x0": 12.18027522978486,
          "x1": 12.18027522978486,
          "y0": 0.05127249357326478,
          "y1": 0.17256393001345896
         },
         {
          "line": {
           "color": "#a2a7ad",
           "dash": "solid",
           "width": 1.5
          },
          "type": "line",
          "x0": 9.005,
          "x1": 18.162894736842105,
          "y0": 0.09189771633208056,
          "y1": 0.09189771633208056
         }
        ],
        "title": "Attacking performance per team",
        "xaxis": {
         "autorange": true,
         "title": "# shots taken per game"
        },
        "yaxis": {
         "autorange": true,
         "title": "1 / # shots per goal (=goal per shot)"
        }
       }
      },
      "text/html": [
       "<div id=\"246b9641-d9f6-4fae-a4b0-12a089511d32\" style=\"height: 525px; width: 100%;\" class=\"plotly-graph-div\"></div><script type=\"text/javascript\">require([\"plotly\"], function(Plotly) { window.PLOTLYENV=window.PLOTLYENV || {};window.PLOTLYENV.BASE_URL=\"https://plot.ly\";Plotly.newPlot(\"246b9641-d9f6-4fae-a4b0-12a089511d32\", [{\"type\": \"scatter\", \"x\": [15.368421052631579, 11.31140350877193, 10.421052631578947, 11.88, 13.710526315789474, 13.842105263157896, 11.802631578947368, 10.671052631578947, 10.947368421052632, 16.293233082706767, 11.381578947368421, 13.939622641509434, 12.821192052980132, 10.903508771929825, 12.114035087719298, 16.63157894736842, 16.770676691729324, 14.347169811320756, 9.18421052631579, 12.87280701754386, 11.782894736842104, 13.649122807017545, 10.18421052631579, 13.626315789473685, 11.181132075471698, 11.6203007518797, 11.87719298245614, 16.616541353383457, 11.197368421052632, 12.342105263157896, 13.171052631578947, 13.228070175438596, 12.105263157894736], \"y\": [0.10934442270058709, 0.08026366808840636, 0.08838383838383838, 0.08866442199775533, 0.09213051823416507, 0.07889733840304182, 0.09587513935340022, 0.07274969173859433, 0.06971153846153846, 0.10290724503922473, 0.08439306358381503, 0.0928532755820249, 0.08367768595041322, 0.07964601769911504, 0.10137581462708183, 0.09358047016274865, 0.11163416274377942, 0.11204629142556549, 0.0659025787965616, 0.08756388415672912, 0.08486878838637632, 0.06683804627249357, 0.09560723514211886, 0.08729239088451139, 0.08504893688828889, 0.07796829505014559, 0.08973412112259971, 0.09208144796380091, 0.07873090481786134, 0.08589704538531831, 0.08458208458208458, 0.07559681697612732, 0.08586956521739131], \"text\": [\"Arsenal\", \"Aston Villa\", \"Birmingham City\", \"Blackburn Rovers\", \"Blackpool\", \"Bolton Wanderers\", \"Bournemouth\", \"Burnley\", \"Cardiff City\", \"Chelsea\", \"Crystal Palace\", \"Everton\", \"Fulham\", \"Hull City\", \"Leicester City\", \"Liverpool\", \"Manchester City\", \"Manchester United\", \"Middlesbrough\", \"Newcastle United\", \"Norwich City\", \"Queens Park Rangers\", \"Reading\", \"Southampton\", \"Stoke City\", \"Sunderland\", \"Swansea City\", \"Tottenham Hotspur\", \"Watford\", \"West Bromwich Albion\", \"West Ham United\", \"Wigan Athletic\", \"Wolverhampton Wanderers\"], \"mode\": \"markers\", \"name\": \"England_PL\"}, {\"type\": \"scatter\", \"x\": [12.010526315789473, 11.782894736842104, 12.059602649006623, 11.0, 12.539473684210526, 9.289473684210526, 10.76842105263158, 10.5, 11.74561403508772, 15.468421052631578, 12.763157894736842, 11.656084656084657, 14.9, 15.963157894736842, 14.036842105263158, 12.736842105263158, 14.473684210526315, 16.073684210526316, 11.657894736842104, 12.56140350877193, 10.93421052631579, 15.566137566137566, 12.4, 12.046052631578947, 9.0, 13.0, 11.615789473684211, 11.81578947368421], \"y\": [0.0876424189307625, 0.07481853713009493, 0.08456891817682592, 0.06937799043062201, 0.08289611752360965, 0.0821529745042493, 0.08113391984359726, 0.07518796992481203, 0.07617625093353249, 0.09595100374276964, 0.061855670103092786, 0.0876078075351793, 0.09572589191098552, 0.11210023079459282, 0.09748781402324709, 0.0743801652892562, 0.08690909090909091, 0.11591355599214145, 0.08465011286681716, 0.08659217877094973, 0.06738868832731648, 0.1114887831407206, 0.08573853989813243, 0.09339158929546695, 0.09064327485380116, 0.09757085020242914, 0.09696420480289987, 0.0935412026726058], \"text\": [\"Atalanta\", \"Bologna\", \"Cagliari\", \"Carpi\", \"Catania\", \"Cesena\", \"Chievo\", \"Crotone\", \"Empoli\", \"Fiorentina\", \"Frosinone\", \"Genoa\", \"Internazionale\", \"Juventus\", \"Lazio\", \"Livorno\", \"Milan\", \"Napoli\", \"Palermo\", \"Parma\", \"Pescara\", \"Roma\", \"Sampdoria\", \"Sassuolo\", \"Siena\", \"Torino\", \"Udinese\", \"Verona\"], \"mode\": \"markers\", \"name\": \"Italy_SerieA\"}, {\"type\": \"scatter\", \"x\": [10.236842105263158, 10.131578947368421, 12.26842105263158, 12.58421052631579, 15.642105263157895, 11.921052631578947, 10.236842105263158, 11.888157894736842, 10.508771929824562, 10.539473684210526, 10.047368421052632, 11.506578947368421, 10.921052631578947, 11.092105263157896, 10.578947368421053, 10.361842105263158, 12.473684210526315, 11.994736842105263, 11.596491228070175, 13.572368421052632, 11.578947368421053, 18.157894736842106, 12.636842105263158, 9.947368421052632, 11.81578947368421, 12.663157894736843, 9.605263157894736, 14.736842105263158, 11.867549668874172, 11.111842105263158], \"y\": [0.09768637532133675, 0.08571428571428572, 0.1021021021021021, 0.1329987452948557, 0.16756393001345896, 0.09492273730684327, 0.04627249357326478, 0.08190370780298838, 0.09682804674457429, 0.07116104868913857, 0.10476689366160294, 0.07833047455688966, 0.07132530120481928, 0.09845788849347568, 0.0845771144278607, 0.08317460317460318, 0.08649789029535865, 0.08819657744624836, 0.07337367624810892, 0.08531265147842947, 0.08636363636363636, 0.14405797101449275, 0.10412328196584757, 0.10582010582010581, 0.060133630289532294, 0.11845386533665836, 0.10273972602739725, 0.10892857142857143, 0.11216517857142858, 0.11012433392539965], \"text\": [\"Alav\\u00e9s\", \"Almer\\u00eda\", \"Athletic Club\", \"Atl\\u00e9tico de Madrid\", \"Barcelona\", \"Celta de Vigo\", \"C\\u00f3rdoba\", \"Deportivo de La Coru\\u00f1a\", \"Eibar\", \"Elche\", \"Espanyol\", \"Getafe\", \"Granada CF\", \"Las Palmas\", \"Legan\\u00e9s\", \"Levante\", \"Mallorca\", \"M\\u00e1laga\", \"Osasuna\", \"Rayo Vallecano\", \"Real Betis\", \"Real Madrid\", \"Real Sociedad\", \"Real Valladolid\", \"Real Zaragoza\", \"Sevilla\", \"Sporting de Gij\\u00f3n\", \"Valencia\", \"Valencia CF\", \"Villarreal\"], \"mode\": \"markers\", \"name\": \"Spain_Liga\"}, {\"type\": \"scatter\", \"x\": [10.990196078431373, 11.088235294117647, 11.852941176470589, 13.235294117647058, 14.75294117647059, 16.147058823529413, 12.052941176470588, 11.882352941176471, 11.788235294117648, 13.094117647058823, 17.647058823529413, 12.676470588235293, 13.452941176470588, 9.147058823529411, 11.905882352941177, 11.529411764705882, 9.808823529411764, 12.764705882352942, 12.882352941176471, 13.264705882352942, 9.911764705882353, 12.29585798816568, 10.676470588235293, 11.196078431372548, 13.372549019607844, 12.272058823529411, 13.676470588235293], \"y\": [0.09812667261373774, 0.09283819628647215, 0.10124069478908189, 0.1111111111111111, 0.11004784688995216, 0.1209471766848816, 0.12005856515373353, 0.06930693069306931, 0.09580838323353294, 0.07906558849955077, 0.13533333333333333, 0.06148491879350348, 0.10275470048097946, 0.10610932475884244, 0.08547430830039526, 0.09948979591836735, 0.10719640179910045, 0.1359447004608295, 0.091324200913242, 0.06430155210643015, 0.08902077151335312, 0.10923965351299326, 0.06336088154269973, 0.09281961471103327, 0.10117302052785923, 0.09406830437387657, 0.10408602150537634], \"text\": [\"1. FC K\\u00f6ln\", \"1. FC N\\u00fcrnberg\", \"1. FSV Mainz 05\", \"1899 Hoffenheim\", \"Bayer 04 Leverkusen\", \"Borussia Dortmund\", \"Borussia M\\u00f6nchengladbach\", \"Eintracht Braunschweig\", \"Eintracht Frankfurt\", \"FC Augsburg\", \"FC Bayern M\\u00fcnchen\", \"FC Ingolstadt 04\", \"FC Schalke 04\", \"Fortuna D\\u00fcsseldorf\", \"Hamburger SV\", \"Hannover 96\", \"Hertha BSC\", \"RB Leipzig\", \"SC Freiburg\", \"SC Paderborn 07\", \"SV Darmstadt 98\", \"SV Werder Bremen\", \"SpVgg Greuther F\\u00fcrth\", \"Sport-Club Freiburg\", \"TSG 1899 Hoffenheim\", \"VfB Stuttgart\", \"VfL Wolfsburg\"], \"mode\": \"markers\", \"name\": \"Germany_Bundesliga\"}, {\"type\": \"scatter\", \"x\": [9.881578947368421, 10.18421052631579, 9.539473684210526, 12.151315789473685, 10.68421052631579, 12.06578947368421, 10.491228070175438, 11.421052631578947, 10.324561403508772, 10.552631578947368, 12.730263157894736, 11.861842105263158, 13.256578947368421, 13.592105263157896, 11.631578947368421, 12.131578947368421, 11.111842105263158, 12.31578947368421, 10.964912280701755, 10.263157894736842, 13.835526315789474, 10.927631578947368, 10.592105263157896, 10.631578947368421, 11.960526315789474, 11.269736842105264, 10.894736842105264, 11.302631578947368], \"y\": [0.09454061251664447, 0.09302325581395349, 0.1006896551724138, 0.08770979967514889, 0.07142857142857142, 0.08724100327153762, 0.09531772575250837, 0.07603686635944701, 0.09090909090909091, 0.06733167082294264, 0.08372093023255814, 0.0920687742651137, 0.11315136476426799, 0.09777347531461762, 0.05656108597285068, 0.10918293564714389, 0.10301953818827708, 0.07692307692307693, 0.0704, 0.10576923076923077, 0.1388492629576795, 0.08910295003010235, 0.10559006211180125, 0.08663366336633663, 0.1034103410341034, 0.09632224168126094, 0.0785024154589372, 0.08847497089639116], \"text\": [\"Ajaccio\", \"Angers\", \"Bastia\", \"Bordeaux\", \"Brest\", \"Caen\", \"Evian Thonon Gaillard\", \"GFC Ajaccio\", \"Guingamp\", \"Lens\", \"Lille\", \"Lorient\", \"Lyon\", \"Marseille\", \"Metz\", \"Monaco\", \"Montpellier\", \"Nancy\", \"Nantes\", \"Nice\", \"Paris Saint-Germain\", \"Reims\", \"Rennes\", \"Sochaux\", \"St Etienne\", \"Toulouse\", \"Troyes\", \"Valenciennes\"], \"mode\": \"markers\", \"name\": \"France_Ligue1\"}], {\"title\": \"Attacking performance per team\", \"hovermode\": \"closest\", \"xaxis\": {\"title\": \"# shots taken per game\", \"autorange\": true}, \"yaxis\": {\"title\": \"1 / # shots per goal (=goal per shot)\", \"autorange\": true}, \"shapes\": [{\"type\": \"line\", \"x0\": 12.18027522978486, \"y0\": 0.05127249357326478, \"x1\": 12.18027522978486, \"y1\": 0.17256393001345896, \"line\": {\"color\": \"#a2a7ad\", \"width\": 1.5, \"dash\": \"solid\"}}, {\"type\": \"line\", \"x0\": 9.005, \"y0\": 0.09189771633208056, \"x1\": 18.162894736842105, \"y1\": 0.09189771633208056, \"line\": {\"color\": \"#a2a7ad\", \"width\": 1.5, \"dash\": \"solid\"}}]}, {\"showLink\": true, \"linkText\": \"Export to plot.ly\", \"plotlyServerURL\": \"https://plot.ly\"})});</script><script type=\"text/javascript\">window.addEventListener(\"resize\", function(){window._Plotly.Plots.resize(document.getElementById(\"246b9641-d9f6-4fae-a4b0-12a089511d32\"));});</script>"
      ],
      "text/vnd.plotly.v1+html": [
       "<div id=\"246b9641-d9f6-4fae-a4b0-12a089511d32\" style=\"height: 525px; width: 100%;\" class=\"plotly-graph-div\"></div><script type=\"text/javascript\">require([\"plotly\"], function(Plotly) { window.PLOTLYENV=window.PLOTLYENV || {};window.PLOTLYENV.BASE_URL=\"https://plot.ly\";Plotly.newPlot(\"246b9641-d9f6-4fae-a4b0-12a089511d32\", [{\"type\": \"scatter\", \"x\": [15.368421052631579, 11.31140350877193, 10.421052631578947, 11.88, 13.710526315789474, 13.842105263157896, 11.802631578947368, 10.671052631578947, 10.947368421052632, 16.293233082706767, 11.381578947368421, 13.939622641509434, 12.821192052980132, 10.903508771929825, 12.114035087719298, 16.63157894736842, 16.770676691729324, 14.347169811320756, 9.18421052631579, 12.87280701754386, 11.782894736842104, 13.649122807017545, 10.18421052631579, 13.626315789473685, 11.181132075471698, 11.6203007518797, 11.87719298245614, 16.616541353383457, 11.197368421052632, 12.342105263157896, 13.171052631578947, 13.228070175438596, 12.105263157894736], \"y\": [0.10934442270058709, 0.08026366808840636, 0.08838383838383838, 0.08866442199775533, 0.09213051823416507, 0.07889733840304182, 0.09587513935340022, 0.07274969173859433, 0.06971153846153846, 0.10290724503922473, 0.08439306358381503, 0.0928532755820249, 0.08367768595041322, 0.07964601769911504, 0.10137581462708183, 0.09358047016274865, 0.11163416274377942, 0.11204629142556549, 0.0659025787965616, 0.08756388415672912, 0.08486878838637632, 0.06683804627249357, 0.09560723514211886, 0.08729239088451139, 0.08504893688828889, 0.07796829505014559, 0.08973412112259971, 0.09208144796380091, 0.07873090481786134, 0.08589704538531831, 0.08458208458208458, 0.07559681697612732, 0.08586956521739131], \"text\": [\"Arsenal\", \"Aston Villa\", \"Birmingham City\", \"Blackburn Rovers\", \"Blackpool\", \"Bolton Wanderers\", \"Bournemouth\", \"Burnley\", \"Cardiff City\", \"Chelsea\", \"Crystal Palace\", \"Everton\", \"Fulham\", \"Hull City\", \"Leicester City\", \"Liverpool\", \"Manchester City\", \"Manchester United\", \"Middlesbrough\", \"Newcastle United\", \"Norwich City\", \"Queens Park Rangers\", \"Reading\", \"Southampton\", \"Stoke City\", \"Sunderland\", \"Swansea City\", \"Tottenham Hotspur\", \"Watford\", \"West Bromwich Albion\", \"West Ham United\", \"Wigan Athletic\", \"Wolverhampton Wanderers\"], \"mode\": \"markers\", \"name\": \"England_PL\"}, {\"type\": \"scatter\", \"x\": [12.010526315789473, 11.782894736842104, 12.059602649006623, 11.0, 12.539473684210526, 9.289473684210526, 10.76842105263158, 10.5, 11.74561403508772, 15.468421052631578, 12.763157894736842, 11.656084656084657, 14.9, 15.963157894736842, 14.036842105263158, 12.736842105263158, 14.473684210526315, 16.073684210526316, 11.657894736842104, 12.56140350877193, 10.93421052631579, 15.566137566137566, 12.4, 12.046052631578947, 9.0, 13.0, 11.615789473684211, 11.81578947368421], \"y\": [0.0876424189307625, 0.07481853713009493, 0.08456891817682592, 0.06937799043062201, 0.08289611752360965, 0.0821529745042493, 0.08113391984359726, 0.07518796992481203, 0.07617625093353249, 0.09595100374276964, 0.061855670103092786, 0.0876078075351793, 0.09572589191098552, 0.11210023079459282, 0.09748781402324709, 0.0743801652892562, 0.08690909090909091, 0.11591355599214145, 0.08465011286681716, 0.08659217877094973, 0.06738868832731648, 0.1114887831407206, 0.08573853989813243, 0.09339158929546695, 0.09064327485380116, 0.09757085020242914, 0.09696420480289987, 0.0935412026726058], \"text\": [\"Atalanta\", \"Bologna\", \"Cagliari\", \"Carpi\", \"Catania\", \"Cesena\", \"Chievo\", \"Crotone\", \"Empoli\", \"Fiorentina\", \"Frosinone\", \"Genoa\", \"Internazionale\", \"Juventus\", \"Lazio\", \"Livorno\", \"Milan\", \"Napoli\", \"Palermo\", \"Parma\", \"Pescara\", \"Roma\", \"Sampdoria\", \"Sassuolo\", \"Siena\", \"Torino\", \"Udinese\", \"Verona\"], \"mode\": \"markers\", \"name\": \"Italy_SerieA\"}, {\"type\": \"scatter\", \"x\": [10.236842105263158, 10.131578947368421, 12.26842105263158, 12.58421052631579, 15.642105263157895, 11.921052631578947, 10.236842105263158, 11.888157894736842, 10.508771929824562, 10.539473684210526, 10.047368421052632, 11.506578947368421, 10.921052631578947, 11.092105263157896, 10.578947368421053, 10.361842105263158, 12.473684210526315, 11.994736842105263, 11.596491228070175, 13.572368421052632, 11.578947368421053, 18.157894736842106, 12.636842105263158, 9.947368421052632, 11.81578947368421, 12.663157894736843, 9.605263157894736, 14.736842105263158, 11.867549668874172, 11.111842105263158], \"y\": [0.09768637532133675, 0.08571428571428572, 0.1021021021021021, 0.1329987452948557, 0.16756393001345896, 0.09492273730684327, 0.04627249357326478, 0.08190370780298838, 0.09682804674457429, 0.07116104868913857, 0.10476689366160294, 0.07833047455688966, 0.07132530120481928, 0.09845788849347568, 0.0845771144278607, 0.08317460317460318, 0.08649789029535865, 0.08819657744624836, 0.07337367624810892, 0.08531265147842947, 0.08636363636363636, 0.14405797101449275, 0.10412328196584757, 0.10582010582010581, 0.060133630289532294, 0.11845386533665836, 0.10273972602739725, 0.10892857142857143, 0.11216517857142858, 0.11012433392539965], \"text\": [\"Alav\\u00e9s\", \"Almer\\u00eda\", \"Athletic Club\", \"Atl\\u00e9tico de Madrid\", \"Barcelona\", \"Celta de Vigo\", \"C\\u00f3rdoba\", \"Deportivo de La Coru\\u00f1a\", \"Eibar\", \"Elche\", \"Espanyol\", \"Getafe\", \"Granada CF\", \"Las Palmas\", \"Legan\\u00e9s\", \"Levante\", \"Mallorca\", \"M\\u00e1laga\", \"Osasuna\", \"Rayo Vallecano\", \"Real Betis\", \"Real Madrid\", \"Real Sociedad\", \"Real Valladolid\", \"Real Zaragoza\", \"Sevilla\", \"Sporting de Gij\\u00f3n\", \"Valencia\", \"Valencia CF\", \"Villarreal\"], \"mode\": \"markers\", \"name\": \"Spain_Liga\"}, {\"type\": \"scatter\", \"x\": [10.990196078431373, 11.088235294117647, 11.852941176470589, 13.235294117647058, 14.75294117647059, 16.147058823529413, 12.052941176470588, 11.882352941176471, 11.788235294117648, 13.094117647058823, 17.647058823529413, 12.676470588235293, 13.452941176470588, 9.147058823529411, 11.905882352941177, 11.529411764705882, 9.808823529411764, 12.764705882352942, 12.882352941176471, 13.264705882352942, 9.911764705882353, 12.29585798816568, 10.676470588235293, 11.196078431372548, 13.372549019607844, 12.272058823529411, 13.676470588235293], \"y\": [0.09812667261373774, 0.09283819628647215, 0.10124069478908189, 0.1111111111111111, 0.11004784688995216, 0.1209471766848816, 0.12005856515373353, 0.06930693069306931, 0.09580838323353294, 0.07906558849955077, 0.13533333333333333, 0.06148491879350348, 0.10275470048097946, 0.10610932475884244, 0.08547430830039526, 0.09948979591836735, 0.10719640179910045, 0.1359447004608295, 0.091324200913242, 0.06430155210643015, 0.08902077151335312, 0.10923965351299326, 0.06336088154269973, 0.09281961471103327, 0.10117302052785923, 0.09406830437387657, 0.10408602150537634], \"text\": [\"1. FC K\\u00f6ln\", \"1. FC N\\u00fcrnberg\", \"1. FSV Mainz 05\", \"1899 Hoffenheim\", \"Bayer 04 Leverkusen\", \"Borussia Dortmund\", \"Borussia M\\u00f6nchengladbach\", \"Eintracht Braunschweig\", \"Eintracht Frankfurt\", \"FC Augsburg\", \"FC Bayern M\\u00fcnchen\", \"FC Ingolstadt 04\", \"FC Schalke 04\", \"Fortuna D\\u00fcsseldorf\", \"Hamburger SV\", \"Hannover 96\", \"Hertha BSC\", \"RB Leipzig\", \"SC Freiburg\", \"SC Paderborn 07\", \"SV Darmstadt 98\", \"SV Werder Bremen\", \"SpVgg Greuther F\\u00fcrth\", \"Sport-Club Freiburg\", \"TSG 1899 Hoffenheim\", \"VfB Stuttgart\", \"VfL Wolfsburg\"], \"mode\": \"markers\", \"name\": \"Germany_Bundesliga\"}, {\"type\": \"scatter\", \"x\": [9.881578947368421, 10.18421052631579, 9.539473684210526, 12.151315789473685, 10.68421052631579, 12.06578947368421, 10.491228070175438, 11.421052631578947, 10.324561403508772, 10.552631578947368, 12.730263157894736, 11.861842105263158, 13.256578947368421, 13.592105263157896, 11.631578947368421, 12.131578947368421, 11.111842105263158, 12.31578947368421, 10.964912280701755, 10.263157894736842, 13.835526315789474, 10.927631578947368, 10.592105263157896, 10.631578947368421, 11.960526315789474, 11.269736842105264, 10.894736842105264, 11.302631578947368], \"y\": [0.09454061251664447, 0.09302325581395349, 0.1006896551724138, 0.08770979967514889, 0.07142857142857142, 0.08724100327153762, 0.09531772575250837, 0.07603686635944701, 0.09090909090909091, 0.06733167082294264, 0.08372093023255814, 0.0920687742651137, 0.11315136476426799, 0.09777347531461762, 0.05656108597285068, 0.10918293564714389, 0.10301953818827708, 0.07692307692307693, 0.0704, 0.10576923076923077, 0.1388492629576795, 0.08910295003010235, 0.10559006211180125, 0.08663366336633663, 0.1034103410341034, 0.09632224168126094, 0.0785024154589372, 0.08847497089639116], \"text\": [\"Ajaccio\", \"Angers\", \"Bastia\", \"Bordeaux\", \"Brest\", \"Caen\", \"Evian Thonon Gaillard\", \"GFC Ajaccio\", \"Guingamp\", \"Lens\", \"Lille\", \"Lorient\", \"Lyon\", \"Marseille\", \"Metz\", \"Monaco\", \"Montpellier\", \"Nancy\", \"Nantes\", \"Nice\", \"Paris Saint-Germain\", \"Reims\", \"Rennes\", \"Sochaux\", \"St Etienne\", \"Toulouse\", \"Troyes\", \"Valenciennes\"], \"mode\": \"markers\", \"name\": \"France_Ligue1\"}], {\"title\": \"Attacking performance per team\", \"hovermode\": \"closest\", \"xaxis\": {\"title\": \"# shots taken per game\", \"autorange\": true}, \"yaxis\": {\"title\": \"1 / # shots per goal (=goal per shot)\", \"autorange\": true}, \"shapes\": [{\"type\": \"line\", \"x0\": 12.18027522978486, \"y0\": 0.05127249357326478, \"x1\": 12.18027522978486, \"y1\": 0.17256393001345896, \"line\": {\"color\": \"#a2a7ad\", \"width\": 1.5, \"dash\": \"solid\"}}, {\"type\": \"line\", \"x0\": 9.005, \"y0\": 0.09189771633208056, \"x1\": 18.162894736842105, \"y1\": 0.09189771633208056, \"line\": {\"color\": \"#a2a7ad\", \"width\": 1.5, \"dash\": \"solid\"}}]}, {\"showLink\": true, \"linkText\": \"Export to plot.ly\", \"plotlyServerURL\": \"https://plot.ly\"})});</script><script type=\"text/javascript\">window.addEventListener(\"resize\", function(){window._Plotly.Plots.resize(document.getElementById(\"246b9641-d9f6-4fae-a4b0-12a089511d32\"));});</script>"
      ]
     },
     "metadata": {},
     "output_type": "display_data"
    }
   ],
   "source": [
    "import plotly.offline as off\n",
    "\n",
    "off.init_notebook_mode(connected=True)\n",
    "\n",
    "data = []\n",
    "\n",
    "for league in MAJOR_LEAGUES:\n",
    "    trace_tmp = dict(\n",
    "        type = 'scatter',\n",
    "        x = df_team_stat_light[df_team_stat_light[\"league_\"]==league][\"shot_by_mean\"].values,\n",
    "        y = df_team_stat_light[df_team_stat_light[\"league_\"]==league][\"goal_per_shot\"].values,\n",
    "        text= df_team_stat_light[df_team_stat_light[\"league_\"]==league][\"team_\"],\n",
    "        mode = 'markers',\n",
    "        name=league\n",
    "    )\n",
    "    data.append(trace_tmp)\n",
    "\n",
    "\n",
    "\n",
    "layout = {\n",
    "    \"title\": 'Attacking performance per team',\n",
    "    \"hovermode\": 'closest',\n",
    "    \"xaxis\": dict(\n",
    "        title='# shots taken per game',\n",
    "        autorange=True\n",
    "    ),\n",
    "    \"yaxis\": dict(\n",
    "        title='1 / # shots per goal (=goal per shot)',\n",
    "        autorange=True\n",
    "    ),\n",
    "    'shapes': [\n",
    "        # Line Vertical\n",
    "        {\n",
    "            'type': 'line',\n",
    "            'x0': df_team_stat_light[\"shot_by_mean\"].mean(),\n",
    "            'y0': df_team_stat_light[\"goal_per_shot\"].min() + 0.005,\n",
    "            'x1': df_team_stat_light[\"shot_by_mean\"].mean(),\n",
    "            'y1': df_team_stat_light[\"goal_per_shot\"].max() + 0.005,\n",
    "            'line': {\n",
    "                'color': '#a2a7ad',\n",
    "                'width': 1.5,\n",
    "                'dash': 'solid',\n",
    "            },\n",
    "        },\n",
    "        # Line Horizontal\n",
    "        {\n",
    "            'type': 'line',\n",
    "            'x0': df_team_stat_light[\"shot_by_mean\"].min() + 0.005,\n",
    "            'y0': df_team_stat_light[\"goal_per_shot\"].mean(),\n",
    "            'x1': df_team_stat_light[\"shot_by_mean\"].max() + 0.005,\n",
    "            'y1': df_team_stat_light[\"goal_per_shot\"].mean(),\n",
    "            'line': {\n",
    "                'color': '#a2a7ad',\n",
    "                'width': 1.5,\n",
    "                'dash': 'solid',\n",
    "            },\n",
    "        },\n",
    "    ]\n",
    "}\n",
    "\n",
    "fig = {\n",
    "    'data': data,\n",
    "    'layout': layout,\n",
    "}\n",
    "\n",
    "off.iplot(fig, validate=False)"
   ]
  },
  {
   "cell_type": "markdown",
   "metadata": {},
   "source": [
    "# XP Goal"
   ]
  },
  {
   "cell_type": "markdown",
   "metadata": {},
   "source": [
    "## Defining zone - Grid test"
   ]
  },
  {
   "cell_type": "code",
   "execution_count": 22,
   "metadata": {
    "ExecuteTime": {
     "end_time": "2019-02-27T11:12:53.866038Z",
     "start_time": "2019-02-27T11:12:53.861177Z"
    }
   },
   "outputs": [],
   "source": [
    "zone_x = [0, 72, 77.5, 83.0, 88.5, 94.0, 99.5, 102.25, 105]"
   ]
  },
  {
   "cell_type": "code",
   "execution_count": 23,
   "metadata": {
    "ExecuteTime": {
     "end_time": "2019-02-27T11:12:54.272024Z",
     "start_time": "2019-02-27T11:12:54.268656Z"
    }
   },
   "outputs": [],
   "source": [
    "zone_y = [0, 13.85 - 5.5, 13.85, 31.25-5.5*2, 31.25-5.5, 31.25, 31.25+5.5, 31.25+5.5*2, 31.25+5.5*3, pitch_y[-2], pitch_y[-2]+5.5, pitch_y[-1]]"
   ]
  },
  {
   "cell_type": "code",
   "execution_count": 79,
   "metadata": {
    "ExecuteTime": {
     "end_time": "2019-02-27T11:57:02.008833Z",
     "start_time": "2019-02-27T11:57:02.001776Z"
    }
   },
   "outputs": [],
   "source": [
    "import itertools\n",
    "\n",
    "zones_table = pd.DataFrame(list(itertools.product(zone_x, zone_y)))\n",
    "zones_table.columns = [\"x\", \"y\"]"
   ]
  },
  {
   "cell_type": "code",
   "execution_count": 80,
   "metadata": {
    "ExecuteTime": {
     "end_time": "2019-02-27T11:57:02.381382Z",
     "start_time": "2019-02-27T11:57:02.359464Z"
    }
   },
   "outputs": [],
   "source": [
    "zones_table[\"zone\"] = list(range(1, zones_table.shape[0]+1))"
   ]
  },
  {
   "cell_type": "code",
   "execution_count": 122,
   "metadata": {
    "ExecuteTime": {
     "end_time": "2019-02-27T12:23:40.390656Z",
     "start_time": "2019-02-27T12:23:40.372367Z"
    }
   },
   "outputs": [],
   "source": [
    "zones_table.loc[(zones_table[\"y\"]<zone_y[1]), \"zone\"] = 200\n",
    "zones_table.loc[(zones_table[\"y\"]>=zone_y[-2]), \"zone\"] = 201\n",
    "# zones_table.loc[(zones_table[\"y\"]>=zone_y[-2]), \"zone\"] = 202\n",
    "zones_table.loc[(zones_table[\"y\"]<=zone_y[4])&(zones_table[\"test[(test[\"check_start_0\"] > zone_x[-3])&(test[\"check_start_1\"] > zone_y[1])&(test[\"check_start_1\"] < zone_y[3])][\"pos_start\"]x\"]>=zone_x[-2])&(zones_table[\"y\"]>=zone_y[1]), \"zone\"] = 203\n",
    "zones_table.loc[zones_table[\"x\"]<zone_x[1], \"zone\"] = 210"
   ]
  },
  {
   "cell_type": "code",
   "execution_count": 155,
   "metadata": {
    "ExecuteTime": {
     "end_time": "2019-02-27T13:00:30.107537Z",
     "start_time": "2019-02-27T13:00:30.102965Z"
    }
   },
   "outputs": [],
   "source": [
    "def zones_lookup(row):\n",
    "    tmp_1 = zones_table[zones_table[\"x\"]<row[\"pos_start\"][0]]\n",
    "    tmp_2 = tmp_1.iloc[tmp_1['x'].iloc[(tmp_1['x']-row[\"pos_start\"][0]).abs().argsort()[:12]].index]\n",
    "    tmp_3 = tmp_2[tmp_2[\"y\"]<row[\"pos_start\"][1]]\n",
    "    zone = tmp_3[\"zone\"].iloc[(tmp_3[\"y\"]-row[\"pos_start\"][1]).abs().argsort()[:1]].values[0]\n",
    "    return zone\n",
    "\n",
    "def zones_consolidation(row):\n",
    "    if row[\"pos_start\"][0]<zone_x[1]:\n",
    "        return 200\n",
    "    elif (row[\"pos_start\"][1]>zone_y[-2]):\n",
    "        return 201\n",
    "    elif  (row[\"pos_start\"][1]<zone_y[1]):\n",
    "        return 202\n",
    "    elif (row[\"pos_start\"][0]>zone_x[-3])&(row[\"pos_start\"][1]>zone_y[1])&(row[\"pos_start\"][1]<zone_y[3]):\n",
    "        return 203\n",
    "    elif (row[\"pos_start\"][0]>zone_x[-3])&(row[\"pos_start\"][1]>zone_y[-4])&(row[\"pos_start\"][1]<zone_y[-2]):\n",
    "        return 204\n",
    "    else:\n",
    "        return row[\"zone\"]"
   ]
  },
  {
   "cell_type": "code",
   "execution_count": 156,
   "metadata": {
    "ExecuteTime": {
     "end_time": "2019-02-27T13:00:36.339317Z",
     "start_time": "2019-02-27T13:00:36.172621Z"
    }
   },
   "outputs": [],
   "source": [
    "test = df.copy().iloc[0:15000]\n",
    "test[\"check_start_0\"] = test[\"pos_start\"].apply(lambda x: x[0])\n",
    "test[\"check_start_1\"] = test[\"pos_start\"].apply(lambda x: x[1])\n",
    "test[\"check_end_0\"] = test[\"pos_end\"].apply(lambda x: x[0])\n",
    "test[\"check_end_1\"] = test[\"pos_end\"].apply(lambda x: x[1])"
   ]
  },
  {
   "cell_type": "code",
   "execution_count": 157,
   "metadata": {
    "ExecuteTime": {
     "end_time": "2019-02-27T13:01:05.061634Z",
     "start_time": "2019-02-27T13:00:37.126042Z"
    }
   },
   "outputs": [],
   "source": [
    "test[\"zone\"] = test.apply(zones_lookup, axis=1)\n",
    "test[\"zone\"] = test.apply(zones_consolidation, axis=1)"
   ]
  },
  {
   "cell_type": "code",
   "execution_count": 158,
   "metadata": {
    "ExecuteTime": {
     "end_time": "2019-02-27T13:02:30.314626Z",
     "start_time": "2019-02-27T13:02:30.296421Z"
    }
   },
   "outputs": [],
   "source": [
    "COLOR_ZONE = dict(zip(list(range(1,71)), sns.cubehelix_palette(71, start=.5, rot=-.75, reverse=True)))\n",
    "COLOR_ZONE = dict(zip(list(range(1,71)), sns.cubehelix_palette(71, start=15, rot=10, reverse=True)))\n",
    "COLOR_ZONE = dict(zip(list(range(1,zones_table.shape[0])), sns.cubehelix_palette(zones_table.shape[0], start=100, dark=0.5, rot=19199119191919, reverse=True)))\n",
    "COLOR_ZONE = dict(zip(list(range(1,zones_table.shape[0])), sns.diverging_palette(160, 24, n=110, sep=1)))\n",
    "COLOR_ZONE = dict(zip(list(range(1,zones_table.shape[0])), (sns.cubehelix_palette(4, start=.4, rot=-.75, reverse=True) + sns.cubehelix_palette(4, start=.4, rot=-.75, reverse=False)) * 20))\n",
    "COLOR_ZONE = dict(zip(list(range(1,zones_table.shape[0])), ([\"yellow\", \"orange\", \"purple\", \"blue\"] + [\"orange\", \"blue\", \"yellow\", \"black\"]) * 20))\n",
    "\n",
    "# sns.cubehelix_palette(4, start=.4, rot=-.75, reverse=True)"
   ]
  },
  {
   "cell_type": "code",
   "execution_count": 161,
   "metadata": {
    "ExecuteTime": {
     "end_time": "2019-02-27T13:05:00.500281Z",
     "start_time": "2019-02-27T13:05:00.495152Z"
    }
   },
   "outputs": [],
   "source": [
    "COLOR_ZONE[200] = 'red'\n",
    "COLOR_ZONE[201] = 'purple'\n",
    "COLOR_ZONE[202] = \"purple\"\n",
    "COLOR_ZONE[203] = \"black\"\n",
    "COLOR_ZONE[204] = \"white\""
   ]
  },
  {
   "cell_type": "code",
   "execution_count": 53,
   "metadata": {
    "ExecuteTime": {
     "end_time": "2019-02-26T21:05:16.576126Z",
     "start_time": "2019-02-26T21:05:16.571588Z"
    }
   },
   "outputs": [],
   "source": [
    "def zones_lookup_individual(pos):\n",
    "    print(pos)\n",
    "    tmp_1 = zones_table[zones_table[\"x\"]<pos[0]]\n",
    "    print(tmp_1)\n",
    "    tmp_2 = tmp_1.iloc[tmp_1['x'].iloc[(tmp_1['x']-pos[0]).abs().argsort()[:12]].index]\n",
    "    print(tmp_2)\n",
    "    tmp_3 = tmp_2[tmp_2[\"y\"]<pos[1]]\n",
    "    print(tmp_3)\n",
    "    zone = tmp_3[\"zone\"].iloc[(tmp_3[\"y\"]-pos[1]).abs().argsort()[:1]].values[0]\n",
    "    return zone"
   ]
  },
  {
   "cell_type": "markdown",
   "metadata": {},
   "source": [
    "## Drawing zones representation for medium article"
   ]
  },
  {
   "cell_type": "code",
   "execution_count": 25,
   "metadata": {
    "ExecuteTime": {
     "end_time": "2019-02-27T11:13:05.811886Z",
     "start_time": "2019-02-27T11:13:05.807914Z"
    }
   },
   "outputs": [],
   "source": [
    "zone_y_viz = zone_y[1:-1]\n",
    "zone_x_viz = zone_x[1:]"
   ]
  },
  {
   "cell_type": "code",
   "execution_count": 44,
   "metadata": {
    "ExecuteTime": {
     "end_time": "2019-02-27T11:14:56.417530Z",
     "start_time": "2019-02-27T11:14:56.404227Z"
    }
   },
   "outputs": [],
   "source": [
    "colors = sns.cubehelix_palette(4, start=.4, rot=-.75, reverse=True)\n",
    "colors = sns.diverging_palette(220, 20, n=4)\n",
    "colors = sns.cubehelix_palette(8, start=.5, rot=-.75)[2:4]"
   ]
  },
  {
   "cell_type": "code",
   "execution_count": 55,
   "metadata": {
    "ExecuteTime": {
     "end_time": "2019-02-27T11:31:49.871751Z",
     "start_time": "2019-02-27T11:31:49.863874Z"
    }
   },
   "outputs": [
    {
     "data": {
      "text/plain": [
       "[72, 77.5, 83.0, 88.5, 94.0, 99.5, 102.25, 105]"
      ]
     },
     "execution_count": 55,
     "metadata": {},
     "output_type": "execute_result"
    }
   ],
   "source": [
    "zone_x_viz"
   ]
  },
  {
   "cell_type": "code",
   "execution_count": 70,
   "metadata": {
    "ExecuteTime": {
     "end_time": "2019-02-27T11:48:42.113019Z",
     "start_time": "2019-02-27T11:48:41.871236Z"
    },
    "scrolled": false
   },
   "outputs": [
    {
     "data": {
      "image/png": "[encoded data removed]",
      "text/plain": [
       "<Figure size 1260x816 with 1 Axes>"
      ]
     },
     "metadata": {},
     "output_type": "display_data"
    }
   ],
   "source": [
    "import matplotlib.pyplot as plt\n",
    "import matplotlib.patches as mpatch\n",
    "import random\n",
    "fig = plt.figure(figsize=(x_size/6, y_size/6))\n",
    "fig.patch.set_facecolor('#4E7E4F')\n",
    "ax = fig.add_subplot(1, 1, 1, facecolor='#4E7E4F')\n",
    "\n",
    "id_color = 0\n",
    "\n",
    "for idx, x in enumerate(zone_x):\n",
    "    for idy, y in enumerate(zone_y):\n",
    "        if (idx < len(zone_x_viz)-1) and (idy < len(zone_y_viz)-1):\n",
    "            ax.add_artist(mpatch.Rectangle((zone_x_viz[idx], zone_y_viz[idy]), zone_x_viz[idx+1]-zone_x_viz[idx], zone_y_viz[idy+1]-zone_y_viz[idy], color=colors[id_color]))\n",
    "            if id_color < len(colors)-1:\n",
    "                id_color +=1\n",
    "            else:\n",
    "                id_color = 0\n",
    "ax.add_artist(mpatch.Rectangle((zone_x_viz[-3], zone_y_viz[0]), zone_x_viz[-1]-zone_x_viz[-3], zone_y_viz[3]-zone_y_viz[1], color=sns.cubehelix_palette(8, start=.5, rot=-.75)[4]))\n",
    "ax.add_artist(mpatch.Rectangle((zone_x_viz[-3], zone_y_viz[7]), zone_x_viz[-1]-zone_x_viz[-3], zone_y_viz[3]-zone_y_viz[1], color=sns.cubehelix_palette(8, start=.5, rot=-.75)[4]))\n",
    "ax.add_artist(mpatch.Rectangle((zone_x_viz[0], zone_y_viz[-1]), zone_x_viz[-1]-zone_x_viz[0], 68-zone_y_viz[-1], color=sns.cubehelix_palette(8, start=.5, rot=-.75)[5]))\n",
    "ax.add_artist(mpatch.Rectangle((zone_x_viz[0], 0), zone_x_viz[-1]-zone_x_viz[0], zone_y_viz[0], color=sns.cubehelix_palette(8, start=.5, rot=-.75)[5]))\n",
    "ax.add_artist(mpatch.Rectangle((0, 0), zone_x_viz[0], 68, color=sns.cubehelix_palette(8, start=.5, rot=-.75)[6]))\n",
    "create_pitch(ax)\n",
    "# plt.title(\"Delimitation of pitch zones (8)\", color=\"white\", fontsize=15)\n",
    "plt.savefig('grid_graph.png')\n",
    "# Image.open('zone_graph.png').save('zone_graph.jpg','JPEG')\n",
    "plt.show()"
   ]
  },
  {
   "cell_type": "markdown",
   "metadata": {},
   "source": [
    "## Defining zone and Calculate XP - Grid - DF Total"
   ]
  },
  {
   "cell_type": "code",
   "execution_count": null,
   "metadata": {},
   "outputs": [],
   "source": [
    "def zones_lookup(row):\n",
    "    if row[\"pos_start\"][0]<zone_x[1]:\n",
    "        return 200\n",
    "    elif (row[\"pos_start\"][1]>zone_y[-2]):\n",
    "        return 201\n",
    "    elif  (row[\"pos_start\"][1]<zone_y[1]):\n",
    "        return 202\n",
    "    elif (row[\"pos_start\"][0]>zone_x[-3])&(row[\"pos_start\"][1]>zone_y[1])&(row[\"pos_start\"][1]<zone_y[3]):\n",
    "        return 203\n",
    "    elif (row[\"pos_start\"][0]>zone_x[-3])&(row[\"pos_start\"][1]>zone_y[-4])&(row[\"pos_start\"][1]<zone_y[-2]):\n",
    "        return 204\n",
    "    else:\n",
    "        return row[\"zone\"]\n",
    "    tmp_1 = zones_table[zones_table[\"x\"]<row[\"pos_start\"][0]]\n",
    "    tmp_2 = tmp_1.iloc[tmp_1['x'].iloc[(tmp_1['x']-row[\"pos_start\"][0]).abs().argsort()[:12]].index]\n",
    "    tmp_3 = tmp_2[tmp_2[\"y\"]<row[\"pos_start\"][1]]\n",
    "    zone = tmp_3[\"zone\"].iloc[(tmp_3[\"y\"]-row[\"pos_start\"][1]).abs().argsort()[:1]].values[0]\n",
    "    return zone\n",
    "\n",
    "def zones_consolidation(row):\n",
    "    if row[\"pos_start\"][0]<zone_x[1]:\n",
    "        return 200\n",
    "    elif (row[\"pos_start\"][1]>zone_y[-2]):\n",
    "        return 201\n",
    "    elif  (row[\"pos_start\"][1]<zone_y[1]):\n",
    "        return 202\n",
    "    elif (row[\"pos_start\"][0]>zone_x[-3])&(row[\"pos_start\"][1]>zone_y[1])&(row[\"pos_start\"][1]<zone_y[3]):\n",
    "        return 203\n",
    "    elif (row[\"pos_start\"][0]>zone_x[-3])&(row[\"pos_start\"][1]>zone_y[-4])&(row[\"pos_start\"][1]<zone_y[-2]):\n",
    "        return 204\n",
    "    else:\n",
    "        return row[\"zone\"]"
   ]
  },
  {
   "cell_type": "code",
   "execution_count": 172,
   "metadata": {
    "ExecuteTime": {
     "end_time": "2019-02-27T14:49:20.558055Z",
     "start_time": "2019-02-27T14:48:18.628162Z"
    }
   },
   "outputs": [],
   "source": [
    "# df[\"zone\"] = df.apply(zones_lookup, axis=1)\n",
    "df[\"zone\"] = df.apply(zones_consolidation, axis=1)"
   ]
  },
  {
   "cell_type": "code",
   "execution_count": 173,
   "metadata": {
    "ExecuteTime": {
     "end_time": "2019-02-27T14:52:57.702721Z",
     "start_time": "2019-02-27T14:52:57.011087Z"
    }
   },
   "outputs": [],
   "source": [
    "df_xp = df[(df[\"is_goal\"] == 1)&(df[\"part\"] != \"unknown\")&(df[\"part\"] != \"other_parts\")].groupby([\"zone\", \"part\"]).count() / df[df[\"part\"]!=\"unknown\"].groupby([\"zone\",\"part\"]).count()"
   ]
  },
  {
   "cell_type": "code",
   "execution_count": 174,
   "metadata": {
    "ExecuteTime": {
     "end_time": "2019-02-27T14:52:59.057328Z",
     "start_time": "2019-02-27T14:52:59.037493Z"
    },
    "scrolled": false
   },
   "outputs": [],
   "source": [
    "df_xp = pd.DataFrame(df_xp[\"result\"]).reset_index()"
   ]
  },
  {
   "cell_type": "code",
   "execution_count": 176,
   "metadata": {
    "ExecuteTime": {
     "end_time": "2019-02-27T14:53:02.602635Z",
     "start_time": "2019-02-27T14:53:02.584977Z"
    }
   },
   "outputs": [],
   "source": [
    "df_xp = df_xp.set_index([\"zone\", \"part\"])"
   ]
  },
  {
   "cell_type": "code",
   "execution_count": 178,
   "metadata": {
    "ExecuteTime": {
     "end_time": "2019-02-27T14:53:06.819173Z",
     "start_time": "2019-02-27T14:53:06.805088Z"
    }
   },
   "outputs": [],
   "source": [
    "def xp_calc(row):\n",
    "#     print(row[\"zone\"])\n",
    "#     print(row[\"part\"])\n",
    "    try:\n",
    "        return df_xp.loc[(row[\"zone\"], row[\"part\"]), :][0]\n",
    "    except KeyError:\n",
    "        return 0"
   ]
  },
  {
   "cell_type": "code",
   "execution_count": 181,
   "metadata": {
    "ExecuteTime": {
     "end_time": "2019-02-27T14:56:03.713711Z",
     "start_time": "2019-02-27T14:53:12.193928Z"
    }
   },
   "outputs": [],
   "source": [
    "df[\"xp_goal\"] = df.apply(xp_calc, axis=1)"
   ]
  },
  {
   "cell_type": "code",
   "execution_count": 132,
   "metadata": {
    "ExecuteTime": {
     "end_time": "2019-02-27T07:34:21.713461Z",
     "start_time": "2019-02-27T07:34:21.477501Z"
    }
   },
   "outputs": [
    {
     "data": {
      "image/png": "[encoded data removed]",
      "text/plain": [
       "<Figure size 1260x816 with 1 Axes>"
      ]
     },
     "metadata": {},
     "output_type": "display_data"
    }
   ],
   "source": [
    "import matplotlib.pyplot as plt\n",
    "import matplotlib.patches as mpatch\n",
    "\n",
    "fig = plt.figure(figsize=(x_size/6, y_size/6))\n",
    "fig.patch.set_facecolor('#4E7E4F')\n",
    "ax = fig.add_subplot(1, 1, 1, facecolor='#4E7E4F')\n",
    "\n",
    "rectangles = {'1' : mpatch.Rectangle((pitch_x[3],pitch_y[4]), pitch_x[4]-pitch_x[3], pitch_y[5]-pitch_y[4], color=COLOR_ZONE[1]),\n",
    "              '2' : mpatch.Rectangle((pitch_x[2],pitch_y[4]), pitch_x[3]-pitch_x[2], pitch_y[5]-pitch_y[4], color=COLOR_ZONE[2]),\n",
    "              '3_R' : mpatch.Rectangle((pitch_x[2],pitch_y[3]), pitch_x[-1]-pitch_x[2], pitch_y[4]-pitch_y[3], color=COLOR_ZONE[3]),\n",
    "              '3_L' : mpatch.Rectangle((pitch_x[2],pitch_y[5]), pitch_x[-1]-pitch_x[2], pitch_y[6]-pitch_y[5], color=COLOR_ZONE[3]),\n",
    "              '4' : mpatch.Rectangle((pitch_x[1],pitch_y[3]), pitch_x[2]-pitch_x[1], pitch_y[6]-pitch_y[3], color=COLOR_ZONE[4]),\n",
    "              '5_R' : mpatch.Rectangle((pitch_x[2],pitch_y[1]), pitch_x[-1]-pitch_x[2], pitch_y[3]-pitch_y[1], color=COLOR_ZONE[5]),\n",
    "              '5_L' : mpatch.Rectangle((pitch_x[2],pitch_y[6]), pitch_x[-1]-pitch_x[2], pitch_y[8]-pitch_y[6], color=COLOR_ZONE[5]),\n",
    "              '6_R' : mpatch.Rectangle((pitch_x[1],pitch_y[1]), pitch_x[2]-pitch_x[1], pitch_y[8]-pitch_y[6], color=COLOR_ZONE[6]),\n",
    "              '6_L' : mpatch.Rectangle((pitch_x[1],pitch_y[6]), pitch_x[2]-pitch_x[1], pitch_y[8]-pitch_y[6], color=COLOR_ZONE[6]),\n",
    "              '7' : mpatch.Rectangle((pitch_x[0],pitch_y[1]), pitch_x[1]-pitch_x[0], pitch_y[-2]-pitch_y[1], color=COLOR_ZONE[7]),\n",
    "              '8_R' : mpatch.Rectangle((pitch_x[0],0), pitch_x[-1]-pitch_x[0], pitch_y[1], color=COLOR_ZONE[8]),\n",
    "              '8_L' : mpatch.Rectangle((pitch_x[0],pitch_y[-2]), pitch_x[-1]-pitch_x[0], pitch_y[1], color=COLOR_ZONE[8]),\n",
    "              '9' : mpatch.Rectangle((0,0), pitch_x[0], pitch_y[-1], color=COLOR_ZONE[9])\n",
    "             }\n",
    "hfont = {'fontname':'Helvetica'}\n",
    "\n",
    "for r in rectangles:\n",
    "    ax.add_artist(rectangles[r])\n",
    "    rx, ry = rectangles[r].get_xy()\n",
    "    cx = rx + rectangles[r].get_width()/2.0\n",
    "    cy = ry + rectangles[r].get_height()/2.0\n",
    "\n",
    "    ax.annotate(r, (cx, cy), color='w', weight='bold', \n",
    "                fontsize=15, ha='center', va='center')\n",
    "# ax.set_xlim((0, 15))\n",
    "# ax.set_ylim((0, 15))\n",
    "# ax.set_aspect('equal')\n",
    "create_pitch(ax)\n",
    "plt.title(\"Delimitation of pitch zones (8)\", **hfont, color=\"white\", fontsize=15)\n",
    "plt.savefig('zone_graph.png')\n",
    "# Image.open('zone_graph.png').save('zone_graph.jpg','JPEG')\n",
    "plt.show()"
   ]
  },
  {
   "cell_type": "markdown",
   "metadata": {},
   "source": [
    "# Team performace analysis based on XP goals"
   ]
  },
  {
   "cell_type": "markdown",
   "metadata": {},
   "source": [
    "## Loading df_team_long dataframe"
   ]
  },
  {
   "cell_type": "code",
   "execution_count": 346,
   "metadata": {
    "ExecuteTime": {
     "end_time": "2019-02-21T19:04:17.271261Z",
     "start_time": "2019-02-21T19:04:17.223806Z"
    }
   },
   "outputs": [],
   "source": [
    "df_team_long = pd.read_csv(\"df_team_long.csv\")"
   ]
  },
  {
   "cell_type": "markdown",
   "metadata": {},
   "source": [
    "## Creating df_team_long dataframe"
   ]
  },
  {
   "cell_type": "code",
   "execution_count": 185,
   "metadata": {
    "ExecuteTime": {
     "end_time": "2019-02-27T15:06:09.679639Z",
     "start_time": "2019-02-27T15:06:09.670035Z"
    }
   },
   "outputs": [
    {
     "data": {
      "text/plain": [
       "[89.83114864864868, 45.97485714285709]"
      ]
     },
     "execution_count": 185,
     "metadata": {},
     "output_type": "execute_result"
    }
   ],
   "source": [
    "df[\"pos_start\"].iloc[0]"
   ]
  },
  {
   "cell_type": "code",
   "execution_count": 186,
   "metadata": {
    "ExecuteTime": {
     "end_time": "2019-02-27T15:06:14.923679Z",
     "start_time": "2019-02-27T15:06:14.806617Z"
    }
   },
   "outputs": [],
   "source": [
    "df_temp = df.sort_values([\"fixture_id\", \"minute\"])"
   ]
  },
  {
   "cell_type": "code",
   "execution_count": 187,
   "metadata": {
    "ExecuteTime": {
     "end_time": "2019-02-27T15:06:18.777832Z",
     "start_time": "2019-02-27T15:06:18.772607Z"
    }
   },
   "outputs": [],
   "source": [
    "def is_goal_side(row, side):\n",
    "    result = 1 if row[\"result_processed\"] == \"goal\" and row[\"shot_by\"] == side else 0\n",
    "    return result"
   ]
  },
  {
   "cell_type": "code",
   "execution_count": 196,
   "metadata": {
    "ExecuteTime": {
     "end_time": "2019-02-27T15:48:32.785800Z",
     "start_time": "2019-02-27T15:48:32.397089Z"
    }
   },
   "outputs": [],
   "source": [
    "df_temp[\"score_home\"] = df_temp[\"score\"].apply(lambda x: int(x.split(\" - \")[0]))\n",
    "df_temp[\"score_away\"] = df_temp[\"score\"].apply(lambda x: int(x.split(\" - \")[1]))\n",
    "\n",
    "# Define columns to record goals for and against away team\n",
    "\n",
    "df_temp[\"goal_for_home\"] = df_temp[\"score_home\"]\n",
    "df_temp[\"goal_against_home\"] = df_temp[\"score_away\"]\n",
    "\n",
    "# Define columns to record goals for and against away team\n",
    "\n",
    "df_temp[\"goal_for_away\"] = df_temp[\"score_away\"]\n",
    "df_temp[\"goal_against_away\"] = df_temp[\"score_home\"]"
   ]
  },
  {
   "cell_type": "code",
   "execution_count": 197,
   "metadata": {
    "ExecuteTime": {
     "end_time": "2019-02-27T15:48:33.625183Z",
     "start_time": "2019-02-27T15:48:33.450806Z"
    }
   },
   "outputs": [],
   "source": [
    "df_score = df_temp[[\"fixture_id\", \"match_date\", \"league\", \"season_year\", \"team_away\", \"team_home\", \"score_away\", \"score_home\", \"goal_for_home\", \"goal_against_home\", \"goal_for_away\", \"goal_against_away\"]].drop_duplicates()"
   ]
  },
  {
   "cell_type": "code",
   "execution_count": 198,
   "metadata": {
    "ExecuteTime": {
     "end_time": "2019-02-27T15:48:36.884242Z",
     "start_time": "2019-02-27T15:48:36.838671Z"
    }
   },
   "outputs": [],
   "source": [
    "df_score_xp = df_temp.groupby([\"fixture_id\", \"shot_by\"]).agg({\"xp_goal\": \"sum\"}).reset_index().pivot_table(columns=\"shot_by\", values=\"xp_goal\", index=\"fixture_id\").reset_index()"
   ]
  },
  {
   "cell_type": "code",
   "execution_count": 199,
   "metadata": {
    "ExecuteTime": {
     "end_time": "2019-02-27T15:48:38.798209Z",
     "start_time": "2019-02-27T15:48:38.766806Z"
    }
   },
   "outputs": [
    {
     "data": {
      "text/html": [
       "<div>\n",
       "<style scoped>\n",
       "    .dataframe tbody tr th:only-of-type {\n",
       "        vertical-align: middle;\n",
       "    }\n",
       "\n",
       "    .dataframe tbody tr th {\n",
       "        vertical-align: top;\n",
       "    }\n",
       "\n",
       "    .dataframe thead th {\n",
       "        text-align: right;\n",
       "    }\n",
       "</style>\n",
       "<table border=\"1\" class=\"dataframe\">\n",
       "  <thead>\n",
       "    <tr style=\"text-align: right;\">\n",
       "      <th></th>\n",
       "      <th>fixture_id</th>\n",
       "      <th>match_date</th>\n",
       "      <th>league</th>\n",
       "      <th>season_year</th>\n",
       "      <th>team_away</th>\n",
       "      <th>team_home</th>\n",
       "      <th>score_away</th>\n",
       "      <th>score_home</th>\n",
       "      <th>goal_for_home</th>\n",
       "      <th>goal_against_home</th>\n",
       "      <th>goal_for_away</th>\n",
       "      <th>goal_against_away</th>\n",
       "      <th>xp_away</th>\n",
       "      <th>xp_home</th>\n",
       "    </tr>\n",
       "  </thead>\n",
       "  <tbody>\n",
       "    <tr>\n",
       "      <th>0</th>\n",
       "      <td>321657</td>\n",
       "      <td>2010-08-14 15:00:00</td>\n",
       "      <td>England_PL</td>\n",
       "      <td>2010</td>\n",
       "      <td>West Ham United</td>\n",
       "      <td>Aston Villa</td>\n",
       "      <td>0</td>\n",
       "      <td>3</td>\n",
       "      <td>3</td>\n",
       "      <td>0</td>\n",
       "      <td>0</td>\n",
       "      <td>3</td>\n",
       "      <td>0.809138</td>\n",
       "      <td>3.389169</td>\n",
       "    </tr>\n",
       "    <tr>\n",
       "      <th>1</th>\n",
       "      <td>321658</td>\n",
       "      <td>2010-08-14 15:00:00</td>\n",
       "      <td>England_PL</td>\n",
       "      <td>2010</td>\n",
       "      <td>Everton</td>\n",
       "      <td>Blackburn Rovers</td>\n",
       "      <td>0</td>\n",
       "      <td>1</td>\n",
       "      <td>1</td>\n",
       "      <td>0</td>\n",
       "      <td>0</td>\n",
       "      <td>1</td>\n",
       "      <td>1.505867</td>\n",
       "      <td>0.587266</td>\n",
       "    </tr>\n",
       "    <tr>\n",
       "      <th>2</th>\n",
       "      <td>321659</td>\n",
       "      <td>2010-08-14 15:00:00</td>\n",
       "      <td>England_PL</td>\n",
       "      <td>2010</td>\n",
       "      <td>Blackpool</td>\n",
       "      <td>Wigan Athletic</td>\n",
       "      <td>4</td>\n",
       "      <td>0</td>\n",
       "      <td>0</td>\n",
       "      <td>4</td>\n",
       "      <td>4</td>\n",
       "      <td>0</td>\n",
       "      <td>1.918771</td>\n",
       "      <td>1.191305</td>\n",
       "    </tr>\n",
       "    <tr>\n",
       "      <th>3</th>\n",
       "      <td>321660</td>\n",
       "      <td>2010-08-14 15:00:00</td>\n",
       "      <td>England_PL</td>\n",
       "      <td>2010</td>\n",
       "      <td>Fulham</td>\n",
       "      <td>Bolton Wanderers</td>\n",
       "      <td>0</td>\n",
       "      <td>0</td>\n",
       "      <td>0</td>\n",
       "      <td>0</td>\n",
       "      <td>0</td>\n",
       "      <td>0</td>\n",
       "      <td>1.366111</td>\n",
       "      <td>0.571520</td>\n",
       "    </tr>\n",
       "    <tr>\n",
       "      <th>4</th>\n",
       "      <td>321661</td>\n",
       "      <td>2010-08-14 17:30:00</td>\n",
       "      <td>England_PL</td>\n",
       "      <td>2010</td>\n",
       "      <td>West Bromwich Albion</td>\n",
       "      <td>Chelsea</td>\n",
       "      <td>0</td>\n",
       "      <td>6</td>\n",
       "      <td>6</td>\n",
       "      <td>0</td>\n",
       "      <td>0</td>\n",
       "      <td>6</td>\n",
       "      <td>0.304474</td>\n",
       "      <td>3.507508</td>\n",
       "    </tr>\n",
       "  </tbody>\n",
       "</table>\n",
       "</div>"
      ],
      "text/plain": [
       "   fixture_id           match_date      league  season_year  \\\n",
       "0      321657  2010-08-14 15:00:00  England_PL         2010   \n",
       "1      321658  2010-08-14 15:00:00  England_PL         2010   \n",
       "2      321659  2010-08-14 15:00:00  England_PL         2010   \n",
       "3      321660  2010-08-14 15:00:00  England_PL         2010   \n",
       "4      321661  2010-08-14 17:30:00  England_PL         2010   \n",
       "\n",
       "              team_away         team_home  score_away  score_home  \\\n",
       "0       West Ham United       Aston Villa           0           3   \n",
       "1               Everton  Blackburn Rovers           0           1   \n",
       "2             Blackpool    Wigan Athletic           4           0   \n",
       "3                Fulham  Bolton Wanderers           0           0   \n",
       "4  West Bromwich Albion           Chelsea           0           6   \n",
       "\n",
       "   goal_for_home  goal_against_home  goal_for_away  goal_against_away  \\\n",
       "0              3                  0              0                  3   \n",
       "1              1                  0              0                  1   \n",
       "2              0                  4              4                  0   \n",
       "3              0                  0              0                  0   \n",
       "4              6                  0              0                  6   \n",
       "\n",
       "    xp_away   xp_home  \n",
       "0  0.809138  3.389169  \n",
       "1  1.505867  0.587266  \n",
       "2  1.918771  1.191305  \n",
       "3  1.366111  0.571520  \n",
       "4  0.304474  3.507508  "
      ]
     },
     "execution_count": 199,
     "metadata": {},
     "output_type": "execute_result"
    }
   ],
   "source": [
    "df_team = pd.concat([df_score.set_index(\"fixture_id\"), df_score_xp.set_index(\"fixture_id\")], axis=1).reset_index()\n",
    "df_team.rename(columns={'away':'xp_away',\n",
    "                    'home':'xp_home'}, inplace=True)\n",
    "df_team.head()"
   ]
  },
  {
   "cell_type": "code",
   "execution_count": 200,
   "metadata": {
    "ExecuteTime": {
     "end_time": "2019-02-27T15:50:48.836964Z",
     "start_time": "2019-02-27T15:50:48.831744Z"
    }
   },
   "outputs": [],
   "source": [
    "def calculate_points(team_for, team_against):\n",
    "    # Calculate the number of points gained from a game for team_for\n",
    "    for score in zip(team_for, team_against):\n",
    "        if score[0] < score[1]:\n",
    "            yield 0\n",
    "        elif score[0] == score[1]:\n",
    "            yield 1\n",
    "        else:\n",
    "            yield 3\n",
    "\n",
    "def diff_scoring(team_for, team_against):\n",
    "    return np.subtract(team_for, team_against)"
   ]
  },
  {
   "cell_type": "code",
   "execution_count": 202,
   "metadata": {
    "ExecuteTime": {
     "end_time": "2019-02-27T15:51:54.528101Z",
     "start_time": "2019-02-27T15:51:54.479684Z"
    }
   },
   "outputs": [],
   "source": [
    "df_team[\"point_away\"] = list(calculate_points(df_team[\"score_away\"].values, df_team[\"score_home\"].values))\n",
    "df_team[\"point_home\"] = list(calculate_points(df_team[\"score_home\"].values, df_team[\"score_away\"].values))\n",
    "\n",
    "df_team[\"xpoint_away\"] = list(calculate_points(df_team[\"xp_away\"].values, df_team[\"xp_home\"].values))\n",
    "df_team[\"xpoint_home\"] = list(calculate_points(df_team[\"xp_home\"].values, df_team[\"xp_away\"].values))\n",
    "\n",
    "df_team[\"deltaGoal_away\"] = diff_scoring(df_team[\"score_away\"].values, df_team[\"score_home\"].values)\n",
    "df_team[\"deltaGoal_home\"] = diff_scoring(df_team[\"score_home\"].values, df_team[\"score_away\"].values)\n",
    "\n",
    "df_team[\"deltaXpGoal_away\"] = diff_scoring(df_team[\"xp_away\"].values, df_team[\"xp_home\"].values)\n",
    "df_team[\"deltaXpGoal_home\"] = diff_scoring(df_team[\"xp_home\"].values, df_team[\"xp_away\"].values)"
   ]
  },
  {
   "cell_type": "code",
   "execution_count": 204,
   "metadata": {
    "ExecuteTime": {
     "end_time": "2019-02-27T15:54:39.932730Z",
     "start_time": "2019-02-27T15:54:38.707920Z"
    }
   },
   "outputs": [],
   "source": [
    "df_team_long = pd.wide_to_long(df_team, stubnames=['team', 'score', 'goal_for', 'goal_against', 'xp', 'point', 'xpoint', 'deltaGoal', 'deltaXpGoal'], i=['league', 'season_year', 'fixture_id', 'match_date'], j='side',\n",
    "                        sep='_', suffix='\\D+')"
   ]
  },
  {
   "cell_type": "code",
   "execution_count": 206,
   "metadata": {
    "ExecuteTime": {
     "end_time": "2019-02-27T15:55:12.244571Z",
     "start_time": "2019-02-27T15:55:12.229792Z"
    }
   },
   "outputs": [],
   "source": [
    "df_team_long = df_team_long.reset_index()"
   ]
  },
  {
   "cell_type": "code",
   "execution_count": 207,
   "metadata": {
    "ExecuteTime": {
     "end_time": "2019-02-27T15:55:13.007045Z",
     "start_time": "2019-02-27T15:55:12.988490Z"
    }
   },
   "outputs": [
    {
     "data": {
      "text/html": [
       "<div>\n",
       "<style scoped>\n",
       "    .dataframe tbody tr th:only-of-type {\n",
       "        vertical-align: middle;\n",
       "    }\n",
       "\n",
       "    .dataframe tbody tr th {\n",
       "        vertical-align: top;\n",
       "    }\n",
       "\n",
       "    .dataframe thead th {\n",
       "        text-align: right;\n",
       "    }\n",
       "</style>\n",
       "<table border=\"1\" class=\"dataframe\">\n",
       "  <thead>\n",
       "    <tr style=\"text-align: right;\">\n",
       "      <th></th>\n",
       "      <th>league</th>\n",
       "      <th>season_year</th>\n",
       "      <th>fixture_id</th>\n",
       "      <th>match_date</th>\n",
       "      <th>side</th>\n",
       "      <th>team</th>\n",
       "      <th>score</th>\n",
       "      <th>goal_for</th>\n",
       "      <th>goal_against</th>\n",
       "      <th>xp</th>\n",
       "      <th>point</th>\n",
       "      <th>xpoint</th>\n",
       "      <th>deltaGoal</th>\n",
       "      <th>deltaXpGoal</th>\n",
       "    </tr>\n",
       "  </thead>\n",
       "  <tbody>\n",
       "    <tr>\n",
       "      <th>0</th>\n",
       "      <td>England_PL</td>\n",
       "      <td>2010</td>\n",
       "      <td>321657</td>\n",
       "      <td>2010-08-14 15:00:00</td>\n",
       "      <td>away</td>\n",
       "      <td>West Ham United</td>\n",
       "      <td>0</td>\n",
       "      <td>0</td>\n",
       "      <td>3</td>\n",
       "      <td>0.809138</td>\n",
       "      <td>0</td>\n",
       "      <td>0</td>\n",
       "      <td>-3</td>\n",
       "      <td>-2.580031</td>\n",
       "    </tr>\n",
       "    <tr>\n",
       "      <th>1</th>\n",
       "      <td>England_PL</td>\n",
       "      <td>2010</td>\n",
       "      <td>321657</td>\n",
       "      <td>2010-08-14 15:00:00</td>\n",
       "      <td>home</td>\n",
       "      <td>Aston Villa</td>\n",
       "      <td>3</td>\n",
       "      <td>3</td>\n",
       "      <td>0</td>\n",
       "      <td>3.389169</td>\n",
       "      <td>3</td>\n",
       "      <td>3</td>\n",
       "      <td>3</td>\n",
       "      <td>2.580031</td>\n",
       "    </tr>\n",
       "    <tr>\n",
       "      <th>2</th>\n",
       "      <td>England_PL</td>\n",
       "      <td>2010</td>\n",
       "      <td>321658</td>\n",
       "      <td>2010-08-14 15:00:00</td>\n",
       "      <td>away</td>\n",
       "      <td>Everton</td>\n",
       "      <td>0</td>\n",
       "      <td>0</td>\n",
       "      <td>1</td>\n",
       "      <td>1.505867</td>\n",
       "      <td>0</td>\n",
       "      <td>3</td>\n",
       "      <td>-1</td>\n",
       "      <td>0.918601</td>\n",
       "    </tr>\n",
       "    <tr>\n",
       "      <th>3</th>\n",
       "      <td>England_PL</td>\n",
       "      <td>2010</td>\n",
       "      <td>321658</td>\n",
       "      <td>2010-08-14 15:00:00</td>\n",
       "      <td>home</td>\n",
       "      <td>Blackburn Rovers</td>\n",
       "      <td>1</td>\n",
       "      <td>1</td>\n",
       "      <td>0</td>\n",
       "      <td>0.587266</td>\n",
       "      <td>3</td>\n",
       "      <td>0</td>\n",
       "      <td>1</td>\n",
       "      <td>-0.918601</td>\n",
       "    </tr>\n",
       "    <tr>\n",
       "      <th>4</th>\n",
       "      <td>England_PL</td>\n",
       "      <td>2010</td>\n",
       "      <td>321659</td>\n",
       "      <td>2010-08-14 15:00:00</td>\n",
       "      <td>away</td>\n",
       "      <td>Blackpool</td>\n",
       "      <td>4</td>\n",
       "      <td>4</td>\n",
       "      <td>0</td>\n",
       "      <td>1.918771</td>\n",
       "      <td>3</td>\n",
       "      <td>3</td>\n",
       "      <td>4</td>\n",
       "      <td>0.727467</td>\n",
       "    </tr>\n",
       "  </tbody>\n",
       "</table>\n",
       "</div>"
      ],
      "text/plain": [
       "       league  season_year  fixture_id           match_date  side  \\\n",
       "0  England_PL         2010      321657  2010-08-14 15:00:00  away   \n",
       "1  England_PL         2010      321657  2010-08-14 15:00:00  home   \n",
       "2  England_PL         2010      321658  2010-08-14 15:00:00  away   \n",
       "3  England_PL         2010      321658  2010-08-14 15:00:00  home   \n",
       "4  England_PL         2010      321659  2010-08-14 15:00:00  away   \n",
       "\n",
       "               team  score  goal_for  goal_against        xp  point  xpoint  \\\n",
       "0   West Ham United      0         0             3  0.809138      0       0   \n",
       "1       Aston Villa      3         3             0  3.389169      3       3   \n",
       "2           Everton      0         0             1  1.505867      0       3   \n",
       "3  Blackburn Rovers      1         1             0  0.587266      3       0   \n",
       "4         Blackpool      4         4             0  1.918771      3       3   \n",
       "\n",
       "   deltaGoal  deltaXpGoal  \n",
       "0         -3    -2.580031  \n",
       "1          3     2.580031  \n",
       "2         -1     0.918601  \n",
       "3          1    -0.918601  \n",
       "4          4     0.727467  "
      ]
     },
     "execution_count": 207,
     "metadata": {},
     "output_type": "execute_result"
    }
   ],
   "source": [
    "df_team_long.head()"
   ]
  },
  {
   "cell_type": "code",
   "execution_count": 208,
   "metadata": {
    "ExecuteTime": {
     "end_time": "2019-02-27T15:55:55.188186Z",
     "start_time": "2019-02-27T15:55:55.163993Z"
    }
   },
   "outputs": [],
   "source": [
    "df_team_long[\"cumPoint\"] = df_team_long.groupby([\"league\", \"season_year\", \"team\"])[\"point\"].cumsum()"
   ]
  },
  {
   "cell_type": "code",
   "execution_count": 209,
   "metadata": {
    "ExecuteTime": {
     "end_time": "2019-02-27T15:55:56.172874Z",
     "start_time": "2019-02-27T15:55:56.153379Z"
    }
   },
   "outputs": [],
   "source": [
    "df_team_long[\"gameday\"] = df_team_long.groupby([\"league\", \"season_year\", \"team\"])[\"point\"].cumcount() + 1"
   ]
  },
  {
   "cell_type": "code",
   "execution_count": 210,
   "metadata": {
    "ExecuteTime": {
     "end_time": "2019-02-27T15:55:56.930817Z",
     "start_time": "2019-02-27T15:55:56.900737Z"
    }
   },
   "outputs": [],
   "source": [
    "df_team_long[\"cumGoalDiff\"] = df_team_long.groupby([\"league\", \"season_year\", \"team\"])[\"deltaGoal\"].cumsum()"
   ]
  },
  {
   "cell_type": "code",
   "execution_count": 211,
   "metadata": {
    "ExecuteTime": {
     "end_time": "2019-02-27T15:55:57.502128Z",
     "start_time": "2019-02-27T15:55:57.484155Z"
    }
   },
   "outputs": [],
   "source": [
    "df_team_long[\"cumAttack\"] = df_team_long.groupby([\"league\", \"season_year\", \"team\"])[\"goal_for\"].cumsum()"
   ]
  },
  {
   "cell_type": "code",
   "execution_count": 212,
   "metadata": {
    "ExecuteTime": {
     "end_time": "2019-02-27T15:55:58.100919Z",
     "start_time": "2019-02-27T15:55:58.082405Z"
    }
   },
   "outputs": [],
   "source": [
    "df_team_long[\"cumDefense\"] = df_team_long.groupby([\"league\", \"season_year\", \"team\"])[\"goal_against\"].cumsum()"
   ]
  },
  {
   "cell_type": "code",
   "execution_count": 234,
   "metadata": {
    "ExecuteTime": {
     "end_time": "2019-02-27T16:07:39.365860Z",
     "start_time": "2019-02-27T16:07:39.330811Z"
    }
   },
   "outputs": [],
   "source": [
    "df_team_long[\"ranking\"] = df_team_long.sort_values([\"cumGoalDiff\", \"cumAttack\", \"cumDefense\", \"team\"], ascending=[False, False, True, True]).groupby([\"league\", \"season_year\", \"gameday\"])[\"cumPoint\"].rank(method=\"first\", ascending=False)"
   ]
  },
  {
   "cell_type": "code",
   "execution_count": 242,
   "metadata": {
    "ExecuteTime": {
     "end_time": "2019-02-27T16:11:18.377869Z",
     "start_time": "2019-02-27T16:11:18.371615Z"
    }
   },
   "outputs": [],
   "source": [
    "df_team_long[\"ranking\"] = df_team_long[\"ranking\"].astype(int)"
   ]
  },
  {
   "cell_type": "code",
   "execution_count": 266,
   "metadata": {
    "ExecuteTime": {
     "end_time": "2019-02-27T16:18:50.177936Z",
     "start_time": "2019-02-27T16:18:50.155774Z"
    },
    "code_folding": [
     0
    ]
   },
   "outputs": [],
   "source": [
    "def show(team, league, season):\n",
    "    \n",
    "    max_league_position = df_team_long[(df_team_long[\"season_year\"]==season)\\\n",
    "                       &(df_team_long[\"league\"]==league)\\\n",
    "                       ][\"ranking\"].max()\n",
    "    \n",
    "    temp = df_team_long[(df_team_long[\"season_year\"]==season)\\\n",
    "                        &(df_team_long[\"team\"]==team)\\\n",
    "                       &(df_team_long[\"league\"]==league)\\\n",
    "                       ]\n",
    "    viz = pd.DataFrame({\"rolling_xp\": temp['deltaXpGoal'].rolling(window=5).mean(),\n",
    "                    \"rolling_actual\": temp['deltaGoal'].rolling(window=5).mean(),\n",
    "                        \"ranking\": temp[\"ranking\"],\n",
    "                   \"game_number\": list(range(1, temp.shape[0]+1))})\n",
    "    # Create a trace\n",
    "    trace_xp = go.Scatter(\n",
    "        x = viz[\"game_number\"],\n",
    "        y = viz[\"rolling_xp\"],\n",
    "#         mode = 'lines+markers',\n",
    "        mode=\"lines\",\n",
    "        name = 'XP Goals Difference | Rolling average'\n",
    "    )\n",
    "\n",
    "    trace_act = go.Scatter(\n",
    "        x = viz[\"game_number\"],\n",
    "        y = viz[\"rolling_actual\"],\n",
    "#         mode = 'lines+markers',\n",
    "        mode=\"lines\",\n",
    "        name = 'Actual Goals Difference | Rolling average'\n",
    "    )\n",
    "    \n",
    "    trace_ranking = go.Scatter(\n",
    "        x = viz[\"game_number\"],\n",
    "        y = viz[\"ranking\"],\n",
    "        mode = 'lines+markers',\n",
    "        line= {'dash': 'dash', \"width\":0.5},\n",
    "        name = 'Ranking',\n",
    "        yaxis='y2',\n",
    "        marker = dict(\n",
    "        size = 5,\n",
    "            symbol=\"pentagon-open\",\n",
    "        color = '#7a7d82')\n",
    "    )\n",
    "\n",
    "    layout = {\n",
    "        \"title\": 'Comparison of 5-game Rolling Average of Expected Goals Difference vs. Actual Goals Difference \\n {} | {}-{}'.format(team,str(season),str(season+1)),\n",
    "        \"hovermode\": 'closest',\n",
    "        \"xaxis\": dict(\n",
    "            title='Game',\n",
    "            showline=False\n",
    "        ),\n",
    "        \"yaxis\": dict(\n",
    "            title='5-game Rolling Average Goal Difference'\n",
    "        ),\n",
    "        \"yaxis2\": dict(\n",
    "#             autorange=\"reversed\",\n",
    "            dtick=1,\n",
    "            range=[max_league_position, 0.01],\n",
    "            title='League Ranking',\n",
    "            overlaying='y',\n",
    "            showgrid=False,\n",
    "            showline=False,\n",
    "            side='right')\n",
    "    }\n",
    "\n",
    "\n",
    "    data = [trace_xp, trace_act, trace_ranking]\n",
    "    fig = go.Figure(data=data, layout=layout)\n",
    "\n",
    "\n",
    "    return py.plotly.iplot(fig, filename='{}_{}_{}'.format(team,str(season),str(season+1)))\n"
   ]
  },
  {
   "cell_type": "code",
   "execution_count": 263,
   "metadata": {
    "ExecuteTime": {
     "end_time": "2019-02-27T16:18:06.886725Z",
     "start_time": "2019-02-27T16:18:06.866910Z"
    },
    "code_folding": [
     2
    ]
   },
   "outputs": [],
   "source": [
    "import plotly.offline as off\n",
    "\n",
    "def off_show(team, league, season):\n",
    "    off.init_notebook_mode(connected=True)\n",
    "    max_league_position = df_team_long[(df_team_long[\"season_year\"]==season)\\\n",
    "                       &(df_team_long[\"league\"]==league)\\\n",
    "                       ][\"ranking\"].max()\n",
    "    \n",
    "                                              \n",
    "    temp = df_team_long[(df_team_long[\"season_year\"]==season)\\\n",
    "                        &(df_team_long[\"team\"]==team)\\\n",
    "                       &(df_team_long[\"league\"]==league)\\\n",
    "                       ]\n",
    "    viz = pd.DataFrame({\"rolling_xp\": temp['deltaXpGoal'].rolling(window=5).mean(),\n",
    "                    \"rolling_actual\": temp['deltaGoal'].rolling(window=5).mean(),\n",
    "                        \"ranking\": temp[\"ranking\"],\n",
    "                   \"game_number\": list(range(1, temp.shape[0]+1))})\n",
    "    # Create a trace\n",
    "    trace_xp = go.Scatter(\n",
    "        x = viz[\"game_number\"],\n",
    "        y = viz[\"rolling_xp\"],\n",
    "#         mode = 'lines+markers',\n",
    "        mode=\"lines\",\n",
    "        name = 'XP Goals Difference | Rolling average'\n",
    "    )\n",
    "\n",
    "    trace_act = go.Scatter(\n",
    "        x = viz[\"game_number\"],\n",
    "        y = viz[\"rolling_actual\"],\n",
    "#         mode = 'lines+markers',\n",
    "        mode=\"lines\",\n",
    "        name = 'Actual Goals Difference | Rolling average'\n",
    "    )\n",
    "    \n",
    "    trace_ranking = go.Scatter(\n",
    "        x = viz[\"game_number\"],\n",
    "        y = viz[\"ranking\"],\n",
    "        mode = 'lines+markers',\n",
    "        line= {'dash': 'dash', \"width\":0.5},\n",
    "        name = 'Ranking',\n",
    "        yaxis='y2',\n",
    "        marker = dict(\n",
    "        size = 5,\n",
    "            symbol=\"pentagon-open\",\n",
    "        color = '#7a7d82')\n",
    "    )\n",
    "\n",
    "    layout = {\n",
    "        \"title\": 'Comparison of 5-game Rolling Average of Expected Goals Difference vs. Actual Goals Difference \\n {} | {}-{}'.format(team,str(season),str(season+1)),\n",
    "        \"hovermode\": 'closest',\n",
    "        \"xaxis\": dict(\n",
    "            title='Game',\n",
    "            showline=False\n",
    "        ),\n",
    "        \"yaxis\": dict(\n",
    "            title='5-game Rolling Average Goal Difference'\n",
    "        ),\n",
    "        \"yaxis2\": dict(\n",
    "#             autorange=\"reversed\",\n",
    "            dtick=1,\n",
    "            range=[max_league_position, 0.01],\n",
    "            title='League Ranking',\n",
    "            overlaying='y',\n",
    "            showgrid=False,\n",
    "            showline=False,\n",
    "            side='right')\n",
    "    }\n",
    "\n",
    "\n",
    "    data = [trace_xp, trace_act, trace_ranking]\n",
    "    fig = go.Figure(data=data, layout=layout)\n",
    "\n",
    "\n",
    "    return off.iplot(fig, filename='{}_{}_{}'.format(team,str(season),str(season+1)))\n"
   ]
  },
  {
   "cell_type": "code",
   "execution_count": 265,
   "metadata": {
    "ExecuteTime": {
     "end_time": "2019-02-27T16:18:08.562641Z",
     "start_time": "2019-02-27T16:18:08.472586Z"
    }
   },
   "outputs": [
    {
     "data": {
      "text/html": [
       "<script type=\"text/javascript\">window.PlotlyConfig = {MathJaxConfig: 'local'};</script><script type=\"text/javascript\">if (window.MathJax) {MathJax.Hub.Config({SVG: {font: \"STIX-Web\"}});}</script><script>requirejs.config({paths: { 'plotly': ['https://cdn.plot.ly/plotly-latest.min']},});if(!window._Plotly) {require(['plotly'],function(plotly) {window._Plotly=plotly;});}</script>"
      ],
      "text/vnd.plotly.v1+html": [
       "<script type=\"text/javascript\">window.PlotlyConfig = {MathJaxConfig: 'local'};</script><script type=\"text/javascript\">if (window.MathJax) {MathJax.Hub.Config({SVG: {font: \"STIX-Web\"}});}</script><script>requirejs.config({paths: { 'plotly': ['https://cdn.plot.ly/plotly-latest.min']},});if(!window._Plotly) {require(['plotly'],function(plotly) {window._Plotly=plotly;});}</script>"
      ]
     },
     "metadata": {},
     "output_type": "display_data"
    },
    {
     "data": {
      "application/vnd.plotly.v1+json": {
       "config": {
        "linkText": "Export to plot.ly",
        "plotlyServerURL": "https://plot.ly",
        "showLink": true
       },
       "data": [
        {
         "mode": "lines",
         "name": "XP Goals Difference | Rolling average",
         "type": "scatter",
         "uid": "b5157ccd-58b3-445c-a09c-7bf5c5de74e8",
         "x": [
          1,
          2,
          3,
          4,
          5,
          6,
          7,
          8,
          9,
          10,
          11,
          12,
          13,
          14,
          15,
          16,
          17,
          18,
          19,
          20,
          21,
          22,
          23,
          24,
          25,
          26,
          27,
          28,
          29,
          30,
          31,
          32,
          33,
          34
         ],
         "y": [
          null,
          null,
          null,
          null,
          0.4737805492834898,
          0.4473857989043368,
          0.42120135033193834,
          0.4190502607058382,
          0.47016953246476645,
          0.4510529325841759,
          0.31934963452314735,
          0.270246419846025,
          0.2158036810822443,
          0.18478580375136716,
          0.08736519653601137,
          0.12413171444314322,
          0.29696542048463087,
          0.34897628885864174,
          0.3435734749660319,
          0.4156493867301344,
          0.4795882647016435,
          0.3470834725098787,
          0.24374884433239208,
          0.2124984527610007,
          0.41637175072815236,
          0.34656995156184295,
          0.3624569768082776,
          0.3830949674835634,
          0.40967584116770894,
          0.11215707801959582,
          0.15509519002231067,
          0.0448423352212988,
          0.08958707996604355,
          0.10859612984053421
         ]
        },
        {
         "mode": "lines",
         "name": "Actual Goals Difference | Rolling average",
         "type": "scatter",
         "uid": "8fc94841-5b28-45ac-9436-caf66b44c2ad",
         "x": [
          1,
          2,
          3,
          4,
          5,
          6,
          7,
          8,
          9,
          10,
          11,
          12,
          13,
          14,
          15,
          16,
          17,
          18,
          19,
          20,
          21,
          22,
          23,
          24,
          25,
          26,
          27,
          28,
          29,
          30,
          31,
          32,
          33,
          34
         ],
         "y": [
          null,
          null,
          null,
          null,
          3,
          2.8,
          2.2,
          2.8,
          2.2,
          2.2,
          2.2,
          1.8,
          1.8,
          2.4,
          1.8,
          1.8,
          1.8,
          1.2,
          1.2,
          1.8,
          2.2,
          2.6,
          3.2,
          3,
          2.6,
          2,
          3,
          2.2,
          2.8,
          3.6,
          3.6,
          2.2,
          2.6,
          2
         ]
        },
        {
         "line": {
          "dash": "dash",
          "width": 0.5
         },
         "marker": {
          "color": "#7a7d82",
          "size": 5,
          "symbol": "pentagon-open"
         },
         "mode": "lines+markers",
         "name": "Ranking",
         "type": "scatter",
         "uid": "e6bd2875-d891-461e-9408-43c40275439a",
         "x": [
          1,
          2,
          3,
          4,
          5,
          6,
          7,
          8,
          9,
          10,
          11,
          12,
          13,
          14,
          15,
          16,
          17,
          18,
          19,
          20,
          21,
          22,
          23,
          24,
          25,
          26,
          27,
          28,
          29,
          30,
          31,
          32,
          33,
          34
         ],
         "y": [
          1,
          1,
          1,
          1,
          1,
          1,
          1,
          1,
          1,
          1,
          1,
          1,
          1,
          1,
          1,
          1,
          1,
          1,
          1,
          1,
          1,
          1,
          1,
          1,
          1,
          1,
          1,
          1,
          1,
          1,
          1,
          1,
          1,
          1
         ],
         "yaxis": "y2"
        }
       ],
       "layout": {
        "hovermode": "closest",
        "title": "Comparison of 5-game Rolling Average of Expected Goals Difference vs. Actual Goals Difference \n FC Bayern München | 2012-2013",
        "xaxis": {
         "showline": false,
         "title": "Game"
        },
        "yaxis": {
         "title": "5-game Rolling Average Goal Difference"
        },
        "yaxis2": {
         "dtick": 1,
         "overlaying": "y",
         "range": [
          18,
          0.01
         ],
         "showgrid": false,
         "showline": false,
         "side": "right",
         "title": "League Ranking"
        }
       }
      },
      "text/html": [
       "<div id=\"1902978e-e19e-44e7-80d1-a69b898abb4e\" style=\"height: 525px; width: 100%;\" class=\"plotly-graph-div\"></div><script type=\"text/javascript\">require([\"plotly\"], function(Plotly) { window.PLOTLYENV=window.PLOTLYENV || {};window.PLOTLYENV.BASE_URL=\"https://plot.ly\";Plotly.newPlot(\"1902978e-e19e-44e7-80d1-a69b898abb4e\", [{\"mode\": \"lines\", \"name\": \"XP Goals Difference | Rolling average\", \"x\": [1, 2, 3, 4, 5, 6, 7, 8, 9, 10, 11, 12, 13, 14, 15, 16, 17, 18, 19, 20, 21, 22, 23, 24, 25, 26, 27, 28, 29, 30, 31, 32, 33, 34], \"y\": [null, null, null, null, 0.4737805492834898, 0.4473857989043368, 0.42120135033193834, 0.4190502607058382, 0.47016953246476645, 0.4510529325841759, 0.31934963452314735, 0.270246419846025, 0.2158036810822443, 0.18478580375136716, 0.08736519653601137, 0.12413171444314322, 0.29696542048463087, 0.34897628885864174, 0.3435734749660319, 0.4156493867301344, 0.4795882647016435, 0.3470834725098787, 0.24374884433239208, 0.2124984527610007, 0.41637175072815236, 0.34656995156184295, 0.3624569768082776, 0.3830949674835634, 0.40967584116770894, 0.11215707801959582, 0.15509519002231067, 0.0448423352212988, 0.08958707996604355, 0.10859612984053421], \"type\": \"scatter\", \"uid\": \"b5157ccd-58b3-445c-a09c-7bf5c5de74e8\"}, {\"mode\": \"lines\", \"name\": \"Actual Goals Difference | Rolling average\", \"x\": [1, 2, 3, 4, 5, 6, 7, 8, 9, 10, 11, 12, 13, 14, 15, 16, 17, 18, 19, 20, 21, 22, 23, 24, 25, 26, 27, 28, 29, 30, 31, 32, 33, 34], \"y\": [null, null, null, null, 3.0, 2.8, 2.2, 2.8, 2.2, 2.2, 2.2, 1.8, 1.8, 2.4, 1.8, 1.8, 1.8, 1.2, 1.2, 1.8, 2.2, 2.6, 3.2, 3.0, 2.6, 2.0, 3.0, 2.2, 2.8, 3.6, 3.6, 2.2, 2.6, 2.0], \"type\": \"scatter\", \"uid\": \"8fc94841-5b28-45ac-9436-caf66b44c2ad\"}, {\"line\": {\"dash\": \"dash\", \"width\": 0.5}, \"marker\": {\"color\": \"#7a7d82\", \"size\": 5, \"symbol\": \"pentagon-open\"}, \"mode\": \"lines+markers\", \"name\": \"Ranking\", \"x\": [1, 2, 3, 4, 5, 6, 7, 8, 9, 10, 11, 12, 13, 14, 15, 16, 17, 18, 19, 20, 21, 22, 23, 24, 25, 26, 27, 28, 29, 30, 31, 32, 33, 34], \"y\": [1, 1, 1, 1, 1, 1, 1, 1, 1, 1, 1, 1, 1, 1, 1, 1, 1, 1, 1, 1, 1, 1, 1, 1, 1, 1, 1, 1, 1, 1, 1, 1, 1, 1], \"yaxis\": \"y2\", \"type\": \"scatter\", \"uid\": \"e6bd2875-d891-461e-9408-43c40275439a\"}], {\"hovermode\": \"closest\", \"title\": \"Comparison of 5-game Rolling Average of Expected Goals Difference vs. Actual Goals Difference \\n FC Bayern M\\u00fcnchen | 2012-2013\", \"xaxis\": {\"showline\": false, \"title\": \"Game\"}, \"yaxis\": {\"title\": \"5-game Rolling Average Goal Difference\"}, \"yaxis2\": {\"dtick\": 1, \"overlaying\": \"y\", \"range\": [18, 0.01], \"showgrid\": false, \"showline\": false, \"side\": \"right\", \"title\": \"League Ranking\"}}, {\"showLink\": true, \"linkText\": \"Export to plot.ly\", \"plotlyServerURL\": \"https://plot.ly\"})});</script><script type=\"text/javascript\">window.addEventListener(\"resize\", function(){window._Plotly.Plots.resize(document.getElementById(\"1902978e-e19e-44e7-80d1-a69b898abb4e\"));});</script>"
      ],
      "text/vnd.plotly.v1+html": [
       "<div id=\"1902978e-e19e-44e7-80d1-a69b898abb4e\" style=\"height: 525px; width: 100%;\" class=\"plotly-graph-div\"></div><script type=\"text/javascript\">require([\"plotly\"], function(Plotly) { window.PLOTLYENV=window.PLOTLYENV || {};window.PLOTLYENV.BASE_URL=\"https://plot.ly\";Plotly.newPlot(\"1902978e-e19e-44e7-80d1-a69b898abb4e\", [{\"mode\": \"lines\", \"name\": \"XP Goals Difference | Rolling average\", \"x\": [1, 2, 3, 4, 5, 6, 7, 8, 9, 10, 11, 12, 13, 14, 15, 16, 17, 18, 19, 20, 21, 22, 23, 24, 25, 26, 27, 28, 29, 30, 31, 32, 33, 34], \"y\": [null, null, null, null, 0.4737805492834898, 0.4473857989043368, 0.42120135033193834, 0.4190502607058382, 0.47016953246476645, 0.4510529325841759, 0.31934963452314735, 0.270246419846025, 0.2158036810822443, 0.18478580375136716, 0.08736519653601137, 0.12413171444314322, 0.29696542048463087, 0.34897628885864174, 0.3435734749660319, 0.4156493867301344, 0.4795882647016435, 0.3470834725098787, 0.24374884433239208, 0.2124984527610007, 0.41637175072815236, 0.34656995156184295, 0.3624569768082776, 0.3830949674835634, 0.40967584116770894, 0.11215707801959582, 0.15509519002231067, 0.0448423352212988, 0.08958707996604355, 0.10859612984053421], \"type\": \"scatter\", \"uid\": \"b5157ccd-58b3-445c-a09c-7bf5c5de74e8\"}, {\"mode\": \"lines\", \"name\": \"Actual Goals Difference | Rolling average\", \"x\": [1, 2, 3, 4, 5, 6, 7, 8, 9, 10, 11, 12, 13, 14, 15, 16, 17, 18, 19, 20, 21, 22, 23, 24, 25, 26, 27, 28, 29, 30, 31, 32, 33, 34], \"y\": [null, null, null, null, 3.0, 2.8, 2.2, 2.8, 2.2, 2.2, 2.2, 1.8, 1.8, 2.4, 1.8, 1.8, 1.8, 1.2, 1.2, 1.8, 2.2, 2.6, 3.2, 3.0, 2.6, 2.0, 3.0, 2.2, 2.8, 3.6, 3.6, 2.2, 2.6, 2.0], \"type\": \"scatter\", \"uid\": \"8fc94841-5b28-45ac-9436-caf66b44c2ad\"}, {\"line\": {\"dash\": \"dash\", \"width\": 0.5}, \"marker\": {\"color\": \"#7a7d82\", \"size\": 5, \"symbol\": \"pentagon-open\"}, \"mode\": \"lines+markers\", \"name\": \"Ranking\", \"x\": [1, 2, 3, 4, 5, 6, 7, 8, 9, 10, 11, 12, 13, 14, 15, 16, 17, 18, 19, 20, 21, 22, 23, 24, 25, 26, 27, 28, 29, 30, 31, 32, 33, 34], \"y\": [1, 1, 1, 1, 1, 1, 1, 1, 1, 1, 1, 1, 1, 1, 1, 1, 1, 1, 1, 1, 1, 1, 1, 1, 1, 1, 1, 1, 1, 1, 1, 1, 1, 1], \"yaxis\": \"y2\", \"type\": \"scatter\", \"uid\": \"e6bd2875-d891-461e-9408-43c40275439a\"}], {\"hovermode\": \"closest\", \"title\": \"Comparison of 5-game Rolling Average of Expected Goals Difference vs. Actual Goals Difference \\n FC Bayern M\\u00fcnchen | 2012-2013\", \"xaxis\": {\"showline\": false, \"title\": \"Game\"}, \"yaxis\": {\"title\": \"5-game Rolling Average Goal Difference\"}, \"yaxis2\": {\"dtick\": 1, \"overlaying\": \"y\", \"range\": [18, 0.01], \"showgrid\": false, \"showline\": false, \"side\": \"right\", \"title\": \"League Ranking\"}}, {\"showLink\": true, \"linkText\": \"Export to plot.ly\", \"plotlyServerURL\": \"https://plot.ly\"})});</script><script type=\"text/javascript\">window.addEventListener(\"resize\", function(){window._Plotly.Plots.resize(document.getElementById(\"1902978e-e19e-44e7-80d1-a69b898abb4e\"));});</script>"
      ]
     },
     "metadata": {},
     "output_type": "display_data"
    }
   ],
   "source": [
    "team = \"FC Bayern München\"\n",
    "league = \"Germany_Bundesliga\"\n",
    "season = 2012\n",
    "\n",
    "off_show(team, league, season)"
   ]
  },
  {
   "cell_type": "code",
   "execution_count": 277,
   "metadata": {
    "ExecuteTime": {
     "end_time": "2019-02-27T16:22:55.411931Z",
     "start_time": "2019-02-27T16:22:53.757379Z"
    }
   },
   "outputs": [
    {
     "data": {
      "text/html": [
       "<iframe id=\"igraph\" scrolling=\"no\" style=\"border:none;\" seamless=\"seamless\" src=\"https://plot.ly/~theon/95.embed\" height=\"525px\" width=\"100%\"></iframe>"
      ],
      "text/plain": [
       "<plotly.tools.PlotlyDisplay object>"
      ]
     },
     "execution_count": 277,
     "metadata": {},
     "output_type": "execute_result"
    }
   ],
   "source": [
    "team = \"Leicester City\"\n",
    "league = \"England_PL\"\n",
    "season = 2015\n",
    "\n",
    "show(team, league, season)"
   ]
  },
  {
   "cell_type": "code",
   "execution_count": 282,
   "metadata": {
    "ExecuteTime": {
     "end_time": "2019-02-27T16:24:15.595676Z",
     "start_time": "2019-02-27T16:24:15.499491Z"
    }
   },
   "outputs": [
    {
     "data": {
      "text/html": [
       "<script type=\"text/javascript\">window.PlotlyConfig = {MathJaxConfig: 'local'};</script><script type=\"text/javascript\">if (window.MathJax) {MathJax.Hub.Config({SVG: {font: \"STIX-Web\"}});}</script><script>requirejs.config({paths: { 'plotly': ['https://cdn.plot.ly/plotly-latest.min']},});if(!window._Plotly) {require(['plotly'],function(plotly) {window._Plotly=plotly;});}</script>"
      ],
      "text/vnd.plotly.v1+html": [
       "<script type=\"text/javascript\">window.PlotlyConfig = {MathJaxConfig: 'local'};</script><script type=\"text/javascript\">if (window.MathJax) {MathJax.Hub.Config({SVG: {font: \"STIX-Web\"}});}</script><script>requirejs.config({paths: { 'plotly': ['https://cdn.plot.ly/plotly-latest.min']},});if(!window._Plotly) {require(['plotly'],function(plotly) {window._Plotly=plotly;});}</script>"
      ]
     },
     "metadata": {},
     "output_type": "display_data"
    },
    {
     "data": {
      "application/vnd.plotly.v1+json": {
       "config": {
        "linkText": "Export to plot.ly",
        "plotlyServerURL": "https://plot.ly",
        "showLink": true
       },
       "data": [
        {
         "mode": "lines",
         "name": "XP Goals Difference | Rolling average",
         "type": "scatter",
         "uid": "990bcdfb-04ca-4e26-be1b-3329d36e7a45",
         "x": [
          1,
          2,
          3,
          4,
          5,
          6,
          7,
          8,
          9,
          10,
          11,
          12,
          13
         ],
         "y": [
          null,
          null,
          null,
          null,
          0.06135637672925165,
          -0.06637579090753043,
          0.03692650990871917,
          0.43652595449001286,
          0.9278709547061628,
          0.5443329533981351,
          0.31688692842576865,
          0.23476610913949117,
          0.013085655090145476
         ]
        },
        {
         "mode": "lines",
         "name": "Actual Goals Difference | Rolling average",
         "type": "scatter",
         "uid": "8163cc2a-b806-4114-9ed6-6641fe368183",
         "x": [
          1,
          2,
          3,
          4,
          5,
          6,
          7,
          8,
          9,
          10,
          11,
          12,
          13
         ],
         "y": [
          null,
          null,
          null,
          null,
          2.6,
          2,
          2.2,
          2.4,
          3,
          2,
          1.8,
          1.6,
          1.8
         ]
        },
        {
         "line": {
          "dash": "dash",
          "width": 0.5
         },
         "marker": {
          "color": "#7a7d82",
          "size": 5,
          "symbol": "pentagon-open"
         },
         "mode": "lines+markers",
         "name": "Ranking",
         "type": "scatter",
         "uid": "63b341ec-f9a8-4a2c-98f2-0fb1a893b7b6",
         "x": [
          1,
          2,
          3,
          4,
          5,
          6,
          7,
          8,
          9,
          10,
          11,
          12,
          13
         ],
         "y": [
          1,
          1,
          2,
          4,
          2,
          1,
          1,
          1,
          1,
          2,
          1,
          1,
          1
         ],
         "yaxis": "y2"
        }
       ],
       "layout": {
        "hovermode": "closest",
        "title": "Comparison of 5-game Rolling Average of Expected Goals Difference vs. Actual Goals Difference \n Real Madrid | 2013-2014",
        "xaxis": {
         "showline": false,
         "title": "Game"
        },
        "yaxis": {
         "title": "5-game Rolling Average Goal Difference"
        },
        "yaxis2": {
         "dtick": 1,
         "overlaying": "y",
         "range": [
          32,
          0.01
         ],
         "showgrid": false,
         "showline": false,
         "side": "right",
         "title": "League Ranking"
        }
       }
      },
      "text/html": [
       "<div id=\"33c459de-e7ec-4858-a67c-e4f69c7c8fba\" style=\"height: 525px; width: 100%;\" class=\"plotly-graph-div\"></div><script type=\"text/javascript\">require([\"plotly\"], function(Plotly) { window.PLOTLYENV=window.PLOTLYENV || {};window.PLOTLYENV.BASE_URL=\"https://plot.ly\";Plotly.newPlot(\"33c459de-e7ec-4858-a67c-e4f69c7c8fba\", [{\"mode\": \"lines\", \"name\": \"XP Goals Difference | Rolling average\", \"x\": [1, 2, 3, 4, 5, 6, 7, 8, 9, 10, 11, 12, 13], \"y\": [null, null, null, null, 0.06135637672925165, -0.06637579090753043, 0.03692650990871917, 0.43652595449001286, 0.9278709547061628, 0.5443329533981351, 0.31688692842576865, 0.23476610913949117, 0.013085655090145476], \"type\": \"scatter\", \"uid\": \"990bcdfb-04ca-4e26-be1b-3329d36e7a45\"}, {\"mode\": \"lines\", \"name\": \"Actual Goals Difference | Rolling average\", \"x\": [1, 2, 3, 4, 5, 6, 7, 8, 9, 10, 11, 12, 13], \"y\": [null, null, null, null, 2.6, 2.0, 2.2, 2.4, 3.0, 2.0, 1.8, 1.6, 1.8], \"type\": \"scatter\", \"uid\": \"8163cc2a-b806-4114-9ed6-6641fe368183\"}, {\"line\": {\"dash\": \"dash\", \"width\": 0.5}, \"marker\": {\"color\": \"#7a7d82\", \"size\": 5, \"symbol\": \"pentagon-open\"}, \"mode\": \"lines+markers\", \"name\": \"Ranking\", \"x\": [1, 2, 3, 4, 5, 6, 7, 8, 9, 10, 11, 12, 13], \"y\": [1, 1, 2, 4, 2, 1, 1, 1, 1, 2, 1, 1, 1], \"yaxis\": \"y2\", \"type\": \"scatter\", \"uid\": \"63b341ec-f9a8-4a2c-98f2-0fb1a893b7b6\"}], {\"hovermode\": \"closest\", \"title\": \"Comparison of 5-game Rolling Average of Expected Goals Difference vs. Actual Goals Difference \\n Real Madrid | 2013-2014\", \"xaxis\": {\"showline\": false, \"title\": \"Game\"}, \"yaxis\": {\"title\": \"5-game Rolling Average Goal Difference\"}, \"yaxis2\": {\"dtick\": 1, \"overlaying\": \"y\", \"range\": [32, 0.01], \"showgrid\": false, \"showline\": false, \"side\": \"right\", \"title\": \"League Ranking\"}}, {\"showLink\": true, \"linkText\": \"Export to plot.ly\", \"plotlyServerURL\": \"https://plot.ly\"})});</script><script type=\"text/javascript\">window.addEventListener(\"resize\", function(){window._Plotly.Plots.resize(document.getElementById(\"33c459de-e7ec-4858-a67c-e4f69c7c8fba\"));});</script>"
      ],
      "text/vnd.plotly.v1+html": [
       "<div id=\"33c459de-e7ec-4858-a67c-e4f69c7c8fba\" style=\"height: 525px; width: 100%;\" class=\"plotly-graph-div\"></div><script type=\"text/javascript\">require([\"plotly\"], function(Plotly) { window.PLOTLYENV=window.PLOTLYENV || {};window.PLOTLYENV.BASE_URL=\"https://plot.ly\";Plotly.newPlot(\"33c459de-e7ec-4858-a67c-e4f69c7c8fba\", [{\"mode\": \"lines\", \"name\": \"XP Goals Difference | Rolling average\", \"x\": [1, 2, 3, 4, 5, 6, 7, 8, 9, 10, 11, 12, 13], \"y\": [null, null, null, null, 0.06135637672925165, -0.06637579090753043, 0.03692650990871917, 0.43652595449001286, 0.9278709547061628, 0.5443329533981351, 0.31688692842576865, 0.23476610913949117, 0.013085655090145476], \"type\": \"scatter\", \"uid\": \"990bcdfb-04ca-4e26-be1b-3329d36e7a45\"}, {\"mode\": \"lines\", \"name\": \"Actual Goals Difference | Rolling average\", \"x\": [1, 2, 3, 4, 5, 6, 7, 8, 9, 10, 11, 12, 13], \"y\": [null, null, null, null, 2.6, 2.0, 2.2, 2.4, 3.0, 2.0, 1.8, 1.6, 1.8], \"type\": \"scatter\", \"uid\": \"8163cc2a-b806-4114-9ed6-6641fe368183\"}, {\"line\": {\"dash\": \"dash\", \"width\": 0.5}, \"marker\": {\"color\": \"#7a7d82\", \"size\": 5, \"symbol\": \"pentagon-open\"}, \"mode\": \"lines+markers\", \"name\": \"Ranking\", \"x\": [1, 2, 3, 4, 5, 6, 7, 8, 9, 10, 11, 12, 13], \"y\": [1, 1, 2, 4, 2, 1, 1, 1, 1, 2, 1, 1, 1], \"yaxis\": \"y2\", \"type\": \"scatter\", \"uid\": \"63b341ec-f9a8-4a2c-98f2-0fb1a893b7b6\"}], {\"hovermode\": \"closest\", \"title\": \"Comparison of 5-game Rolling Average of Expected Goals Difference vs. Actual Goals Difference \\n Real Madrid | 2013-2014\", \"xaxis\": {\"showline\": false, \"title\": \"Game\"}, \"yaxis\": {\"title\": \"5-game Rolling Average Goal Difference\"}, \"yaxis2\": {\"dtick\": 1, \"overlaying\": \"y\", \"range\": [32, 0.01], \"showgrid\": false, \"showline\": false, \"side\": \"right\", \"title\": \"League Ranking\"}}, {\"showLink\": true, \"linkText\": \"Export to plot.ly\", \"plotlyServerURL\": \"https://plot.ly\"})});</script><script type=\"text/javascript\">window.addEventListener(\"resize\", function(){window._Plotly.Plots.resize(document.getElementById(\"33c459de-e7ec-4858-a67c-e4f69c7c8fba\"));});</script>"
      ]
     },
     "metadata": {},
     "output_type": "display_data"
    }
   ],
   "source": [
    "team = \"Real Madrid\"\n",
    "league = \"UEFA_Champions\"\n",
    "season = 2013\n",
    "\n",
    "off_show(team, league, season)"
   ]
  }
 ],
 "metadata": {
  "kernelspec": {
   "display_name": "Python 3",
   "language": "python",
   "name": "python3"
  },
  "language_info": {
   "codemirror_mode": {
    "name": "ipython",
    "version": 3
   },
   "file_extension": ".py",
   "mimetype": "text/x-python",
   "name": "python",
   "nbconvert_exporter": "python",
   "pygments_lexer": "ipython3",
   "version": "3.7.3"
  },
  "toc": {
   "base_numbering": 1,
   "nav_menu": {},
   "number_sections": true,
   "sideBar": true,
   "skip_h1_title": false,
   "title_cell": "Table of Contents",
   "title_sidebar": "Contents",
   "toc_cell": false,
   "toc_position": {
    "height": "calc(100% - 180px)",
    "left": "10px",
    "top": "150px",
    "width": "336.889px"
   },
   "toc_section_display": true,
   "toc_window_display": true
  }
 },
 "nbformat": 4,
 "nbformat_minor": 2
}
